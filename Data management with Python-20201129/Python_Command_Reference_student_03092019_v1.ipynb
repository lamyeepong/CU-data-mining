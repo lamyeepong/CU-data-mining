{
 "cells": [
  {
   "cell_type": "markdown",
   "metadata": {},
   "source": [
    "# Data management with Python"
   ]
  },
  {
   "cell_type": "raw",
   "metadata": {},
   "source": [
    "In this notebook, we are going to cover the followings:\n",
    "\n",
    "-Data types\n",
    "\n",
    "-Data structures (Focus: List,Dictionary,Series and data frames)\n",
    "\n",
    "-Filtering of data structures\n",
    "\n",
    "-Data aggregation \n",
    "\n",
    "-Data import \n",
    "\n",
    "-Data visualization "
   ]
  },
  {
   "cell_type": "markdown",
   "metadata": {},
   "source": [
    "### Data Types in Python"
   ]
  },
  {
   "cell_type": "markdown",
   "metadata": {},
   "source": [
    "In Python there are four data types:\n",
    "\n",
    "booleans\n",
    "\n",
    "integers\n",
    "\n",
    "floats\n",
    "\n",
    "strings\n"
   ]
  },
  {
   "cell_type": "code",
   "execution_count": 23,
   "metadata": {},
   "outputs": [],
   "source": [
    "a=10\n"
   ]
  },
  {
   "cell_type": "code",
   "execution_count": 24,
   "metadata": {},
   "outputs": [
    {
     "data": {
      "text/plain": [
       "int"
      ]
     },
     "execution_count": 24,
     "metadata": {},
     "output_type": "execute_result"
    }
   ],
   "source": [
    "type(a)"
   ]
  },
  {
   "cell_type": "code",
   "execution_count": 25,
   "metadata": {},
   "outputs": [
    {
     "data": {
      "text/plain": [
       "int"
      ]
     },
     "execution_count": 25,
     "metadata": {},
     "output_type": "execute_result"
    }
   ],
   "source": [
    "a=10\n",
    "b=True\n",
    "c=\"Python is cool\"\n",
    "d=1.3\n",
    "#You could use type() function to check the type of the data object\n",
    "type(a)"
   ]
  },
  {
   "cell_type": "markdown",
   "metadata": {},
   "source": [
    "### Filtering on string "
   ]
  },
  {
   "cell_type": "raw",
   "metadata": {},
   "source": [
    "To extract characters from the string in Python:\n",
    "\n",
    "string[A:B:C]\n",
    "\n",
    "where\n",
    "\n",
    "A-the start position of the string\n",
    "\n",
    "B-The position after the end part of the string\n",
    "\n",
    "C: The step of the jumping from the start position towards the end\n",
    "\n",
    "Note: the first character starts with 0 in the extraction "
   ]
  },
  {
   "cell_type": "code",
   "execution_count": 26,
   "metadata": {},
   "outputs": [
    {
     "data": {
      "text/plain": [
       "'ab'"
      ]
     },
     "execution_count": 26,
     "metadata": {},
     "output_type": "execute_result"
    }
   ],
   "source": [
    "s=\"abcdefg\"\n",
    "\n",
    "s1=s[0:2]\n",
    "\n",
    "s1"
   ]
  },
  {
   "cell_type": "code",
   "execution_count": 27,
   "metadata": {},
   "outputs": [
    {
     "data": {
      "text/plain": [
       "'abcd'"
      ]
     },
     "execution_count": 27,
     "metadata": {},
     "output_type": "execute_result"
    }
   ],
   "source": [
    "s[0:4]"
   ]
  },
  {
   "cell_type": "code",
   "execution_count": 28,
   "metadata": {},
   "outputs": [
    {
     "data": {
      "text/plain": [
       "'abcd'"
      ]
     },
     "execution_count": 28,
     "metadata": {},
     "output_type": "execute_result"
    }
   ],
   "source": [
    "s[:4]"
   ]
  },
  {
   "cell_type": "code",
   "execution_count": 29,
   "metadata": {},
   "outputs": [
    {
     "name": "stdout",
     "output_type": "stream",
     "text": [
      "ab\n"
     ]
    }
   ],
   "source": [
    "s=\"abcdefg\"\n",
    "\n",
    "print(s[0:2])\n"
   ]
  },
  {
   "cell_type": "raw",
   "metadata": {},
   "source": [
    "You could use index=-1 to locate the last element, index=-2 to locate the second last element etc"
   ]
  },
  {
   "cell_type": "code",
   "execution_count": 30,
   "metadata": {},
   "outputs": [
    {
     "name": "stdout",
     "output_type": "stream",
     "text": [
      "abcdef\n"
     ]
    }
   ],
   "source": [
    "s=\"abcdefg\"\n",
    "s1=s[:-1]\n",
    "print(s1)"
   ]
  },
  {
   "cell_type": "code",
   "execution_count": 31,
   "metadata": {},
   "outputs": [
    {
     "data": {
      "text/plain": [
       "'efg'"
      ]
     },
     "execution_count": 31,
     "metadata": {},
     "output_type": "execute_result"
    }
   ],
   "source": [
    "s[-3:]"
   ]
  },
  {
   "cell_type": "code",
   "execution_count": 32,
   "metadata": {},
   "outputs": [
    {
     "data": {
      "text/plain": [
       "'gfedcba'"
      ]
     },
     "execution_count": 32,
     "metadata": {},
     "output_type": "execute_result"
    }
   ],
   "source": [
    "s[::-1]"
   ]
  },
  {
   "cell_type": "raw",
   "metadata": {},
   "source": [
    "Pasting strings together with + or * operators"
   ]
  },
  {
   "cell_type": "code",
   "execution_count": 33,
   "metadata": {
    "scrolled": true
   },
   "outputs": [
    {
     "name": "stdout",
     "output_type": "stream",
     "text": [
      "Python is cool\n"
     ]
    }
   ],
   "source": [
    "#To add strings together\n",
    "a=\"Python \"\n",
    "b=\"is cool\"\n",
    "c=a+b\n",
    "print(c)\n"
   ]
  },
  {
   "cell_type": "code",
   "execution_count": 34,
   "metadata": {},
   "outputs": [
    {
     "data": {
      "text/plain": [
       "'Python is cool'"
      ]
     },
     "execution_count": 34,
     "metadata": {},
     "output_type": "execute_result"
    }
   ],
   "source": [
    "a=\"Python\"\n",
    "b=\"is cool\"\n",
    "c=a+\" \"+b\n",
    "c"
   ]
  },
  {
   "cell_type": "code",
   "execution_count": 35,
   "metadata": {},
   "outputs": [
    {
     "data": {
      "text/plain": [
       "'PythonPythonPythonis cool'"
      ]
     },
     "execution_count": 35,
     "metadata": {},
     "output_type": "execute_result"
    }
   ],
   "source": [
    "a*3+b"
   ]
  },
  {
   "cell_type": "markdown",
   "metadata": {},
   "source": [
    "### Quiz "
   ]
  },
  {
   "cell_type": "markdown",
   "metadata": {},
   "source": [
    "\n",
    "\n",
    "Try the following statements:\n",
    "\n",
    "len(letters)\n",
    "\n",
    "letters[0]\n",
    "\n",
    "letters[-1]\n",
    "\n",
    "letters[0:2]\n",
    "\n",
    "letters[0:4:2]\n",
    "\n",
    "letters[::-1]\n",
    "\n",
    "letters[:-1]"
   ]
  },
  {
   "cell_type": "markdown",
   "metadata": {},
   "source": [
    "You can also use \"+\" operator to perform the addition of strings"
   ]
  },
  {
   "cell_type": "markdown",
   "metadata": {},
   "source": [
    "### Immutable object"
   ]
  },
  {
   "cell_type": "raw",
   "metadata": {},
   "source": [
    "String in Python is immutable."
   ]
  },
  {
   "cell_type": "code",
   "execution_count": 36,
   "metadata": {},
   "outputs": [
    {
     "ename": "NameError",
     "evalue": "name 'letters' is not defined",
     "output_type": "error",
     "traceback": [
      "\u001b[1;31m---------------------------------------------------------------------------\u001b[0m",
      "\u001b[1;31mNameError\u001b[0m                                 Traceback (most recent call last)",
      "\u001b[1;32m<ipython-input-36-a0ab055d6682>\u001b[0m in \u001b[0;36m<module>\u001b[1;34m()\u001b[0m\n\u001b[1;32m----> 1\u001b[1;33m \u001b[0mletters\u001b[0m\u001b[1;33m[\u001b[0m\u001b[1;36m0\u001b[0m\u001b[1;33m]\u001b[0m\u001b[1;33m=\u001b[0m\u001b[1;34m\"b\"\u001b[0m\u001b[1;33m\u001b[0m\u001b[0m\n\u001b[0m",
      "\u001b[1;31mNameError\u001b[0m: name 'letters' is not defined"
     ]
    }
   ],
   "source": [
    "letters[0]=\"b\""
   ]
  },
  {
   "cell_type": "code",
   "execution_count": null,
   "metadata": {},
   "outputs": [],
   "source": [
    "letters=\"abcdefghijklmnopqrstuvwxyz\"\n",
    "letters=\"b\"+letters[1:]\n",
    "print(letters)"
   ]
  },
  {
   "cell_type": "code",
   "execution_count": 1,
   "metadata": {},
   "outputs": [
    {
     "name": "stdout",
     "output_type": "stream",
     "text": [
      "bbcdefghijklmnopqrstuvwxyzb\n",
      "cdefghijklmnopqrstuvwxyz\n"
     ]
    },
    {
     "data": {
      "text/plain": [
       "'bbcdefghijklmnopqrstuvwxyzb'"
      ]
     },
     "execution_count": 1,
     "metadata": {},
     "output_type": "execute_result"
    }
   ],
   "source": [
    "letters=\"abcdefghijklmnopqrstuvwxyza\"\n",
    "letters1=letters.replace(\"a\",\"b\")\n",
    "print(letters1)\n",
    "print(letters1.strip(\"b\"))\n",
    "letters1\n"
   ]
  },
  {
   "cell_type": "markdown",
   "metadata": {},
   "source": [
    "### To split the string"
   ]
  },
  {
   "cell_type": "raw",
   "metadata": {},
   "source": [
    "After spliting the result will be saved as list object. (To be discussed)"
   ]
  },
  {
   "cell_type": "code",
   "execution_count": null,
   "metadata": {},
   "outputs": [],
   "source": [
    "#This is just a comment\n",
    "data=\"1;2;4;6;8\"\n",
    "L1=data.split(\";\")\n",
    "print(data)\n",
    "print(\"L1=\",L1)\n"
   ]
  },
  {
   "cell_type": "markdown",
   "metadata": {},
   "source": [
    "### To join the list elements as string"
   ]
  },
  {
   "cell_type": "code",
   "execution_count": null,
   "metadata": {},
   "outputs": [],
   "source": [
    "S1=','.join(L1)\n",
    "print(S1)\n",
    "type(S1)"
   ]
  },
  {
   "cell_type": "markdown",
   "metadata": {},
   "source": [
    "# Basic data structures in Python"
   ]
  },
  {
   "cell_type": "markdown",
   "metadata": {},
   "source": [
    "There are basically four data structures in Python:\n",
    "\n",
    "-Lists\n",
    "\n",
    "-Tuples\n",
    "\n",
    "-Dictionaries\n",
    "\n",
    "-Sets\n",
    "\n",
    "We will focus on list and dictionary."
   ]
  },
  {
   "cell_type": "markdown",
   "metadata": {},
   "source": [
    "## List"
   ]
  },
  {
   "cell_type": "code",
   "execution_count": null,
   "metadata": {},
   "outputs": [],
   "source": [
    "L=[\"a\",1,2,4]\n",
    "L[0]"
   ]
  },
  {
   "cell_type": "code",
   "execution_count": null,
   "metadata": {},
   "outputs": [],
   "source": [
    "L1=[[1,2,3],[4,5,6],[7,8,9]]\n",
    "L2=L1[0][0:2]\n",
    "print(L2)"
   ]
  },
  {
   "cell_type": "code",
   "execution_count": null,
   "metadata": {},
   "outputs": [],
   "source": [
    "L1=[[1,2,3],[4,5,6],[7,8,9]]\n",
    "L2=L1[0:2]\n",
    "print(L2)"
   ]
  },
  {
   "cell_type": "code",
   "execution_count": null,
   "metadata": {},
   "outputs": [],
   "source": [
    "L3=L1[::2]\n",
    "print(L3)"
   ]
  },
  {
   "cell_type": "code",
   "execution_count": null,
   "metadata": {},
   "outputs": [],
   "source": [
    "L3=L1[::2][1][0]\n",
    "L3"
   ]
  },
  {
   "cell_type": "raw",
   "metadata": {},
   "source": [
    "Note that list is mutable object and you could change the value of the list element on the fly."
   ]
  },
  {
   "cell_type": "code",
   "execution_count": null,
   "metadata": {},
   "outputs": [],
   "source": [
    "L1=[[1,2,3],[4,5,6],[7,8,9]]\n",
    "\n",
    "L1[0]=[\"a\",\"b\",\"c\"]\n",
    "\n",
    "L1"
   ]
  },
  {
   "cell_type": "markdown",
   "metadata": {},
   "source": [
    "### List operation-To append element into list"
   ]
  },
  {
   "cell_type": "code",
   "execution_count": null,
   "metadata": {},
   "outputs": [],
   "source": [
    "days=[\"1\",\"2\",\"3\",\"4\",\"5\",\"6\",\"7\"]\n",
    "\n",
    "print(days)\n",
    "days.append(\"8\")\n",
    "print(days)"
   ]
  },
  {
   "cell_type": "code",
   "execution_count": null,
   "metadata": {},
   "outputs": [],
   "source": [
    "days.insert(1,\"9\")\n",
    "print(days)"
   ]
  },
  {
   "cell_type": "code",
   "execution_count": null,
   "metadata": {
    "scrolled": true
   },
   "outputs": [],
   "source": [
    "days.append([\"8\",\"9\"])\n",
    "print(days)\n",
    "type(days)"
   ]
  },
  {
   "cell_type": "code",
   "execution_count": 2,
   "metadata": {},
   "outputs": [
    {
     "data": {
      "text/plain": [
       "['1', '2', '3', '4', '5', '6', '7', '8', '9']"
      ]
     },
     "execution_count": 2,
     "metadata": {},
     "output_type": "execute_result"
    }
   ],
   "source": [
    "days=[\"1\",\"2\",\"3\",\"4\",\"5\",\"6\",\"7\"]\n",
    "days1=[\"8\",\"9\"]\n",
    "days=days+days1\n",
    "days"
   ]
  },
  {
   "cell_type": "code",
   "execution_count": 3,
   "metadata": {},
   "outputs": [
    {
     "data": {
      "text/plain": [
       "['1', '8', '9', '2', '3', '4', '5', '6', '7']"
      ]
     },
     "execution_count": 3,
     "metadata": {},
     "output_type": "execute_result"
    }
   ],
   "source": [
    "days=[\"1\",\"2\",\"3\",\"4\",\"5\",\"6\",\"7\"]\n",
    "days1=[\"8\",\"9\"]\n",
    "days=list(days[0])+days1+days[1:]\n",
    "days"
   ]
  },
  {
   "cell_type": "code",
   "execution_count": 4,
   "metadata": {},
   "outputs": [
    {
     "data": {
      "text/plain": [
       "0"
      ]
     },
     "execution_count": 4,
     "metadata": {},
     "output_type": "execute_result"
    }
   ],
   "source": [
    "#Note that with index method it will only return the first match\n",
    "days=[\"1\",\"2\",\"3\",\"4\",\"1\",\"5\",\"6\",\"7\"]\n",
    "days.index(\"1\")"
   ]
  },
  {
   "cell_type": "markdown",
   "metadata": {},
   "source": [
    "### To remove list element"
   ]
  },
  {
   "cell_type": "code",
   "execution_count": 5,
   "metadata": {},
   "outputs": [
    {
     "name": "stdout",
     "output_type": "stream",
     "text": [
      "['1', '2', '3', '4', '5', '6', '13', '7']\n"
     ]
    }
   ],
   "source": [
    "days=[\"1\",\"13\",\"2\",\"3\",\"4\",\"5\",\"6\",\"13\",\"7\"]\n",
    "days.remove(\"13\")\n",
    "print(days)"
   ]
  },
  {
   "cell_type": "code",
   "execution_count": 6,
   "metadata": {},
   "outputs": [
    {
     "name": "stdout",
     "output_type": "stream",
     "text": [
      "b= [2, 2, 4, 5]\n",
      "a= [2, 2, 4, 5]\n"
     ]
    }
   ],
   "source": [
    "a=[1,2,4,5]\n",
    "b=a\n",
    "b[0]=2\n",
    "print(\"b=\",b)\n",
    "print(\"a=\",a)"
   ]
  },
  {
   "cell_type": "code",
   "execution_count": 7,
   "metadata": {},
   "outputs": [
    {
     "name": "stdout",
     "output_type": "stream",
     "text": [
      "b= [2, 2, 4, 5]\n",
      "a= [1, 2, 4, 5]\n"
     ]
    }
   ],
   "source": [
    "a=[1,2,4,5]\n",
    "b=a.copy()\n",
    "b[0]=2\n",
    "print(\"b=\",b)\n",
    "print(\"a=\",a)"
   ]
  },
  {
   "cell_type": "markdown",
   "metadata": {},
   "source": [
    "### For loop"
   ]
  },
  {
   "cell_type": "code",
   "execution_count": null,
   "metadata": {},
   "outputs": [],
   "source": [
    "for i in [1,2,4,5,6]:\n",
    "    print(i)\n",
    "    print(i)"
   ]
  },
  {
   "cell_type": "code",
   "execution_count": null,
   "metadata": {},
   "outputs": [],
   "source": [
    "L1=[1,2,3,4,6.7,9,11,100]\n",
    "L2=[]\n",
    "for i in L1:\n",
    "    if i >=10:\n",
    "        L2.append(i)\n",
    "print(L2)"
   ]
  },
  {
   "cell_type": "markdown",
   "metadata": {},
   "source": [
    "### Exercise"
   ]
  },
  {
   "cell_type": "raw",
   "metadata": {},
   "source": [
    "Given the list days=[\"1\",\"13\",\"2\",\"3\",\"4\",\"5\",\"6\",\"13\",\"7\"] which icludes any number of \"13\" in the list\n",
    "\n",
    "Remove all the \"13\" in the list by using for loop and if statement together with the append method "
   ]
  },
  {
   "cell_type": "raw",
   "metadata": {},
   "source": [
    "Note: You could use == operator to check if it is equal\n",
    "\n",
    "You could use != to check if it is not equal"
   ]
  },
  {
   "cell_type": "code",
   "execution_count": null,
   "metadata": {},
   "outputs": [],
   "source": [
    "\n",
    "\n",
    "\n",
    "\n"
   ]
  },
  {
   "cell_type": "markdown",
   "metadata": {},
   "source": [
    "### Use of list comprehesion"
   ]
  },
  {
   "cell_type": "code",
   "execution_count": null,
   "metadata": {},
   "outputs": [],
   "source": [
    "days=[\"1\",\"13\",\"2\",\"13\",\"3\"]\n",
    "L3=[i==\"1\" for i \n",
    "    in days if i !=\"13\"]\n",
    "print(L3)"
   ]
  },
  {
   "cell_type": "raw",
   "metadata": {},
   "source": [
    "To use range() as iterable object in Python"
   ]
  },
  {
   "cell_type": "code",
   "execution_count": null,
   "metadata": {},
   "outputs": [],
   "source": [
    "list(range(10))"
   ]
  },
  {
   "cell_type": "code",
   "execution_count": null,
   "metadata": {},
   "outputs": [],
   "source": [
    "#Example to show how to generate a list with list comprehension\n",
    "L2=[number for number in range(1,6) if number%2==1]\n",
    "print(L2)\n"
   ]
  },
  {
   "cell_type": "code",
   "execution_count": null,
   "metadata": {},
   "outputs": [],
   "source": [
    "L2=[]\n",
    "for i in range(1,6):\n",
    "    if i%2==1:\n",
    "        L2.append(i)\n",
    "print(L2)"
   ]
  },
  {
   "cell_type": "code",
   "execution_count": 8,
   "metadata": {},
   "outputs": [
    {
     "data": {
      "text/plain": [
       "[1, 3, 4]"
      ]
     },
     "execution_count": 8,
     "metadata": {},
     "output_type": "execute_result"
    }
   ],
   "source": [
    "L1=[1,2,3,2,4,5,5,2]\n",
    "L2=[2,5]\n",
    "[i for i in L1 if i not in L2]\n"
   ]
  },
  {
   "cell_type": "code",
   "execution_count": null,
   "metadata": {},
   "outputs": [],
   "source": [
    "#To get the position of the list element where its value equals to 1\n",
    "L1=[1,2,1,3,4]\n",
    "[i for i in range(len(L1)) if L1[i]==1]"
   ]
  },
  {
   "cell_type": "markdown",
   "metadata": {},
   "source": [
    "### To define function in python"
   ]
  },
  {
   "cell_type": "code",
   "execution_count": null,
   "metadata": {},
   "outputs": [],
   "source": [
    "def print_hello(name):\n",
    "    sentence=\"Hello\"+\" \"+name\n",
    "    print(sentence)"
   ]
  },
  {
   "cell_type": "code",
   "execution_count": null,
   "metadata": {},
   "outputs": [],
   "source": [
    "print_hello(\"Peter\")"
   ]
  },
  {
   "cell_type": "markdown",
   "metadata": {},
   "source": [
    "## Tuple"
   ]
  },
  {
   "cell_type": "code",
   "execution_count": 9,
   "metadata": {},
   "outputs": [
    {
     "name": "stdout",
     "output_type": "stream",
     "text": [
      "t2= (1, 2, 4)\n",
      "Type of t2 is  <class 'tuple'>\n"
     ]
    }
   ],
   "source": [
    "#To create tuple use the following methods:\n",
    "t1=(1,)\n",
    "type(t1)\n",
    "t2=tuple([1,2,4])\n",
    "print(\"t2=\",t2)\n",
    "print(\"Type of t2 is \",type(t2))\n"
   ]
  },
  {
   "cell_type": "markdown",
   "metadata": {},
   "source": [
    "## Dictionary"
   ]
  },
  {
   "cell_type": "raw",
   "metadata": {},
   "source": [
    "Dictionary is composed of the followings:\n",
    "\n",
    "-key\n",
    "\n",
    "-values"
   ]
  },
  {
   "cell_type": "code",
   "execution_count": 37,
   "metadata": {},
   "outputs": [
    {
     "name": "stdout",
     "output_type": "stream",
     "text": [
      "test1= {'Monday': 'Shopping', 'Tuesday': 'Reading', 'Wednesday': 'Sleeping', 'Thursday': 'Working', 'Friday': 'Reading'}\n"
     ]
    }
   ],
   "source": [
    "test1={\"Monday\":\"Shopping\",\"Tuesday\":\"Reading\",\"Wednesday\":\"Sleeping\",\"Thursday\":\"Working\",\"Friday\":\"Reading\"}\n",
    "print(\"test1=\",test1)"
   ]
  },
  {
   "cell_type": "code",
   "execution_count": 38,
   "metadata": {},
   "outputs": [
    {
     "name": "stdout",
     "output_type": "stream",
     "text": [
      "The value for the key 'Monday' is  Shopping\n"
     ]
    }
   ],
   "source": [
    "print(\"The value for the key 'Monday' is \",test1[\"Monday\"])"
   ]
  },
  {
   "cell_type": "code",
   "execution_count": 39,
   "metadata": {},
   "outputs": [
    {
     "name": "stdout",
     "output_type": "stream",
     "text": [
      "{'Monday': 'Sleeping', 'Tuesday': 'Reading', 'Wednesday': 'Sleeping', 'Thursday': 'Working', 'Friday': 'Reading'}\n"
     ]
    }
   ],
   "source": [
    "test1[\"Monday\"]=\"Sleeping\"\n",
    "print(test1)"
   ]
  },
  {
   "cell_type": "code",
   "execution_count": 40,
   "metadata": {},
   "outputs": [
    {
     "name": "stdout",
     "output_type": "stream",
     "text": [
      "The keys in the dictionary are  ['Monday', 'Tuesday', 'Wednesday', 'Thursday', 'Friday']\n",
      "The values in the dictionary are  ['Sleeping', 'Reading', 'Sleeping', 'Working', 'Reading']\n"
     ]
    }
   ],
   "source": [
    "#To get the keys of the dictionary and store it as a separate list object:\n",
    "list(test1.keys())\n",
    "list(test1.values())\n",
    "print(\"The keys in the dictionary are \",list(test1.keys()))\n",
    "print(\"The values in the dictionary are \",list(test1.values()))\n"
   ]
  },
  {
   "cell_type": "code",
   "execution_count": 41,
   "metadata": {},
   "outputs": [
    {
     "name": "stdout",
     "output_type": "stream",
     "text": [
      "{'Monday': 'Sleeping', 'Tuesday': 'Reading', 'Wednesday': 'Sleeping', 'Thursday': 'Working', 'Friday': 'Reading', 'Saturday': 'Reading'}\n",
      "{'Monday': 'Sleeping', 'Tuesday': 'Reading', 'Wednesday': 'Sleeping', 'Thursday': 'Working', 'Friday': 'Reading'}\n"
     ]
    }
   ],
   "source": [
    "#To add one more key value pair\n",
    "test1[\"Saturday\"]=\"Reading\"\n",
    "print(test1)\n",
    "#To delete one particular key value pair\n",
    "del test1[\"Saturday\"]\n",
    "print(test1)"
   ]
  },
  {
   "cell_type": "raw",
   "metadata": {},
   "source": [
    "In python dictionary the values could include any other python data structure such as list, dictionary, data frame etc"
   ]
  },
  {
   "cell_type": "code",
   "execution_count": 42,
   "metadata": {},
   "outputs": [
    {
     "data": {
      "text/plain": [
       "{'Monday': ['Shopping', 'Running'],\n",
       " 'Tuesday': ['Reading'],\n",
       " 'Wednesday': ['Sleeping'],\n",
       " 'Thursday': 'Working',\n",
       " 'Friday': 'Reading'}"
      ]
     },
     "execution_count": 42,
     "metadata": {},
     "output_type": "execute_result"
    }
   ],
   "source": [
    "test2={\"Monday\":[\"Shopping\",\"Running\"],\"Tuesday\":[\"Reading\"],\n",
    "       \"Wednesday\":[\"Sleeping\"],\n",
    "       \"Thursday\":\"Working\",\"Friday\":\"Reading\"}\n",
    "test2"
   ]
  },
  {
   "cell_type": "markdown",
   "metadata": {},
   "source": [
    "### Use of dictionary comprehension"
   ]
  },
  {
   "cell_type": "code",
   "execution_count": 43,
   "metadata": {},
   "outputs": [
    {
     "data": {
      "text/plain": [
       "[('Monday', 'Sleeping'),\n",
       " ('Tuesday', 'Reading'),\n",
       " ('Wednesday', 'Sleeping'),\n",
       " ('Thursday', 'Working'),\n",
       " ('Friday', 'Reading')]"
      ]
     },
     "execution_count": 43,
     "metadata": {},
     "output_type": "execute_result"
    }
   ],
   "source": [
    "list(test1.items())"
   ]
  },
  {
   "cell_type": "code",
   "execution_count": 44,
   "metadata": {},
   "outputs": [
    {
     "data": {
      "text/plain": [
       "{'Monday': 'Sleeping', 'Wednesday': 'Sleeping'}"
      ]
     },
     "execution_count": 44,
     "metadata": {},
     "output_type": "execute_result"
    }
   ],
   "source": [
    "{item1:item2 for item1, item2 in test1.items() if item2==\"Sleeping\"}"
   ]
  },
  {
   "cell_type": "code",
   "execution_count": 45,
   "metadata": {},
   "outputs": [
    {
     "name": "stdout",
     "output_type": "stream",
     "text": [
      "{'Monday': 'Sleeping', 'Tuesday': 'Reading', 'Wednesday': 'Sleeping', 'Thursday': 'Working', 'Friday': 'Reading'}\n"
     ]
    },
    {
     "data": {
      "text/plain": [
       "['Monday', 'Wednesday']"
      ]
     },
     "execution_count": 45,
     "metadata": {},
     "output_type": "execute_result"
    }
   ],
   "source": [
    "print(test1)\n",
    "\n",
    "[item1 for item1, item2 in test1.items() if item2==\"Sleeping\"]"
   ]
  },
  {
   "cell_type": "code",
   "execution_count": 46,
   "metadata": {},
   "outputs": [
    {
     "data": {
      "text/plain": [
       "[(3, 4)]"
      ]
     },
     "execution_count": 46,
     "metadata": {},
     "output_type": "execute_result"
    }
   ],
   "source": [
    "dict1={(1,2):[1,2,3,4],(2,3):[2,3,4,5,8],(3,4):[1,2,3,4,5,6]}\n",
    "\n",
    "[item1 for item1,item2 in dict1.items() if len(item2)>5]"
   ]
  },
  {
   "cell_type": "raw",
   "metadata": {},
   "source": [
    "To create a dictionary with two separate list objects"
   ]
  },
  {
   "cell_type": "code",
   "execution_count": 47,
   "metadata": {},
   "outputs": [
    {
     "name": "stdout",
     "output_type": "stream",
     "text": [
      "{'Monday': 'Sleeping', 'Sunday': 'Sleeping'}\n"
     ]
    }
   ],
   "source": [
    "list1=[\"Monday\",\"Sunday\"]\n",
    "list2=[\"Sleeping\",\"Sleeping\"]\n",
    "dict1=dict(zip(list1,list2))\n",
    "print(dict1)\n"
   ]
  },
  {
   "cell_type": "code",
   "execution_count": 48,
   "metadata": {},
   "outputs": [
    {
     "data": {
      "text/plain": [
       "'Sleeping'"
      ]
     },
     "execution_count": 48,
     "metadata": {},
     "output_type": "execute_result"
    }
   ],
   "source": [
    "test1.get(\"Monday\",\"nothing\")"
   ]
  },
  {
   "cell_type": "code",
   "execution_count": 49,
   "metadata": {},
   "outputs": [
    {
     "data": {
      "text/plain": [
       "'nothing'"
      ]
     },
     "execution_count": 49,
     "metadata": {},
     "output_type": "execute_result"
    }
   ],
   "source": [
    "test1.get(\"Sunday\",\"nothing\")"
   ]
  },
  {
   "cell_type": "markdown",
   "metadata": {},
   "source": [
    "# Array and Dataframe"
   ]
  },
  {
   "cell_type": "markdown",
   "metadata": {},
   "source": [
    "# Use of NumPy package"
   ]
  },
  {
   "cell_type": "code",
   "execution_count": 50,
   "metadata": {},
   "outputs": [
    {
     "name": "stdout",
     "output_type": "stream",
     "text": [
      "[[1 2 3]\n",
      " [4 5 6]]\n"
     ]
    },
    {
     "data": {
      "text/plain": [
       "numpy.ndarray"
      ]
     },
     "execution_count": 50,
     "metadata": {},
     "output_type": "execute_result"
    }
   ],
   "source": [
    "import numpy as np\n",
    "x2=np.array([[1,2,3],[4,5,6]])\n",
    "print(x2)\n",
    "type(x2)\n"
   ]
  },
  {
   "cell_type": "code",
   "execution_count": 51,
   "metadata": {},
   "outputs": [
    {
     "name": "stdout",
     "output_type": "stream",
     "text": [
      "2\n",
      "(2, 3)\n",
      "6\n"
     ]
    }
   ],
   "source": [
    "print(x2.ndim)\n",
    "print(x2.shape)\n",
    "print(x2.size)"
   ]
  },
  {
   "cell_type": "code",
   "execution_count": 14,
   "metadata": {},
   "outputs": [
    {
     "name": "stdout",
     "output_type": "stream",
     "text": [
      "[1 2 3 4 5 6]\n",
      "[[1 2 3]\n",
      " [4 5 6]]\n",
      "(2, 3)\n",
      "[1 2 3 4 5 6]\n"
     ]
    }
   ],
   "source": [
    "x=np.array([1,2,3])\n",
    "y=np.array([4,5,6])\n",
    "print(np.concatenate([x,y]))\n",
    "x3=np.vstack([x,y])\n",
    "print(x3)\n",
    "print(x3.shape)\n",
    "x4=np.hstack([x,y])\n",
    "print(x4)"
   ]
  },
  {
   "cell_type": "code",
   "execution_count": 53,
   "metadata": {},
   "outputs": [
    {
     "data": {
      "text/plain": [
       "array([False, False, False])"
      ]
     },
     "execution_count": 53,
     "metadata": {},
     "output_type": "execute_result"
    }
   ],
   "source": [
    "#Universal functions\n",
    "x>y"
   ]
  },
  {
   "cell_type": "code",
   "execution_count": 54,
   "metadata": {},
   "outputs": [
    {
     "data": {
      "text/plain": [
       "array([5, 7, 9])"
      ]
     },
     "execution_count": 54,
     "metadata": {},
     "output_type": "execute_result"
    }
   ],
   "source": [
    "x+y"
   ]
  },
  {
   "cell_type": "markdown",
   "metadata": {},
   "source": [
    "### Filtering on array"
   ]
  },
  {
   "cell_type": "code",
   "execution_count": 12,
   "metadata": {},
   "outputs": [
    {
     "name": "stdout",
     "output_type": "stream",
     "text": [
      "[[1 2 3]\n",
      " [4 5 6]\n",
      " [7 8 9]]\n",
      "[[1 2]\n",
      " [4 5]]\n",
      "[[4 6]\n",
      " [7 9]]\n"
     ]
    }
   ],
   "source": [
    "import numpy as np\n",
    "x2=np.array([[1,2,3],[4,5,6],[7,8,9]])\n",
    "print(x2)\n",
    "x3=x2[0:2,0:2]\n",
    "print(x3)\n",
    "x4=x2[1:,::2]\n",
    "print(x4)"
   ]
  },
  {
   "cell_type": "code",
   "execution_count": 56,
   "metadata": {},
   "outputs": [
    {
     "name": "stdout",
     "output_type": "stream",
     "text": [
      "[[2 3 4]\n",
      " [4 5 6]\n",
      " [6 7 8]]\n"
     ]
    },
    {
     "data": {
      "text/plain": [
       "array([[2, 3, 4, 4, 5, 6, 6, 7, 8]])"
      ]
     },
     "execution_count": 56,
     "metadata": {},
     "output_type": "execute_result"
    }
   ],
   "source": [
    "x2=np.array([list(range(i,i+3)) for i in [2,4,6]])\n",
    "print(x2)\n",
    "x4=x2.reshape(1,9)\n",
    "x4"
   ]
  },
  {
   "cell_type": "code",
   "execution_count": 57,
   "metadata": {},
   "outputs": [
    {
     "data": {
      "text/plain": [
       "array([6, 7, 8, 9])"
      ]
     },
     "execution_count": 57,
     "metadata": {},
     "output_type": "execute_result"
    }
   ],
   "source": [
    "import numpy as np\n",
    "#x2=np.array([[1,2,3],[4,5,6],[7,8,9]])\n",
    "x1=np.array([1,2,3,4])\n",
    "\n",
    "x1+5"
   ]
  },
  {
   "cell_type": "markdown",
   "metadata": {},
   "source": [
    "## Use of Pandas"
   ]
  },
  {
   "cell_type": "raw",
   "metadata": {},
   "source": [
    "We will first cover \n",
    "\n",
    "1. Series\n",
    "\n",
    "2. Data frame\n",
    "\n"
   ]
  },
  {
   "cell_type": "markdown",
   "metadata": {},
   "source": [
    "### Series"
   ]
  },
  {
   "cell_type": "code",
   "execution_count": 58,
   "metadata": {},
   "outputs": [
    {
     "name": "stdout",
     "output_type": "stream",
     "text": [
      "0    0.25\n",
      "1    0.50\n",
      "2    0.75\n",
      "3    1.00\n",
      "dtype: float64\n"
     ]
    }
   ],
   "source": [
    "import pandas as pd\n",
    "data = pd.Series([0.25, 0.5, 0.75, 1.0])\n",
    "print(data)"
   ]
  },
  {
   "cell_type": "code",
   "execution_count": 22,
   "metadata": {},
   "outputs": [
    {
     "name": "stdout",
     "output_type": "stream",
     "text": [
      "a    0.25\n",
      "b    0.50\n",
      "c    0.75\n",
      "d    1.00\n",
      "dtype: float64\n"
     ]
    }
   ],
   "source": [
    "import pandas as pd\n",
    "data = pd.Series([0.25, 0.5, 0.75, 1.0],index=[\"a\",\"b\",\"c\",\"d\"])\n",
    "print(data)"
   ]
  },
  {
   "cell_type": "code",
   "execution_count": 23,
   "metadata": {},
   "outputs": [],
   "source": [
    "population_dict= {'California':38842342,\n",
    "                  'Texas':26448193,\n",
    "                  'New York':19651127,\n",
    "                  'Florida':19552860,\n",
    "                  'Illinois':12882135}\n",
    "population = pd.Series(population_dict)"
   ]
  },
  {
   "cell_type": "code",
   "execution_count": 24,
   "metadata": {},
   "outputs": [
    {
     "data": {
      "text/plain": [
       "California    38842342\n",
       "Texas         26448193\n",
       "New York      19651127\n",
       "Florida       19552860\n",
       "Illinois      12882135\n",
       "dtype: int64"
      ]
     },
     "execution_count": 24,
     "metadata": {},
     "output_type": "execute_result"
    }
   ],
   "source": [
    "population"
   ]
  },
  {
   "cell_type": "markdown",
   "metadata": {},
   "source": [
    "## Filtering on series"
   ]
  },
  {
   "cell_type": "markdown",
   "metadata": {},
   "source": [
    "### Method 1: Filter by boolean series "
   ]
  },
  {
   "cell_type": "code",
   "execution_count": 60,
   "metadata": {},
   "outputs": [
    {
     "data": {
      "text/plain": [
       "a    False\n",
       "b    False\n",
       "c     True\n",
       "d     True\n",
       "dtype: bool"
      ]
     },
     "execution_count": 60,
     "metadata": {},
     "output_type": "execute_result"
    }
   ],
   "source": [
    "import pandas as pd\n",
    "data = pd.Series([0.25,0.5,0.75,1.0],index=['a','b','c','d'])\n",
    "data>0.6"
   ]
  },
  {
   "cell_type": "code",
   "execution_count": 61,
   "metadata": {},
   "outputs": [
    {
     "data": {
      "text/plain": [
       "c    0.75\n",
       "d    1.00\n",
       "dtype: float64"
      ]
     },
     "execution_count": 61,
     "metadata": {},
     "output_type": "execute_result"
    }
   ],
   "source": [
    "import pandas as pd\n",
    "data = pd.Series([0.25,0.5,0.75,1.0],index=['a','b','c','d'])\n",
    "data>0.6\n",
    "data[data>0.6]"
   ]
  },
  {
   "cell_type": "raw",
   "metadata": {},
   "source": [
    "Another example: If we want to filter the data in which it is greater than 0.6 and small than 1"
   ]
  },
  {
   "cell_type": "code",
   "execution_count": 62,
   "metadata": {},
   "outputs": [
    {
     "data": {
      "text/plain": [
       "c    0.75\n",
       "dtype: float64"
      ]
     },
     "execution_count": 62,
     "metadata": {},
     "output_type": "execute_result"
    }
   ],
   "source": [
    "data[(data>0.6) & (data<1)]"
   ]
  },
  {
   "cell_type": "markdown",
   "metadata": {},
   "source": [
    "### Method 2: Filter by position"
   ]
  },
  {
   "cell_type": "code",
   "execution_count": 63,
   "metadata": {},
   "outputs": [
    {
     "data": {
      "text/plain": [
       "a    0.25\n",
       "b    0.50\n",
       "dtype: float64"
      ]
     },
     "execution_count": 63,
     "metadata": {},
     "output_type": "execute_result"
    }
   ],
   "source": [
    "data.iloc[0:2]\n"
   ]
  },
  {
   "cell_type": "markdown",
   "metadata": {},
   "source": [
    "### Method 3 : Filter by index"
   ]
  },
  {
   "cell_type": "code",
   "execution_count": 64,
   "metadata": {},
   "outputs": [
    {
     "data": {
      "text/plain": [
       "a    0.25\n",
       "c    0.75\n",
       "dtype: float64"
      ]
     },
     "execution_count": 64,
     "metadata": {},
     "output_type": "execute_result"
    }
   ],
   "source": [
    "data.loc[[\"a\",\"c\"]]"
   ]
  },
  {
   "cell_type": "code",
   "execution_count": 65,
   "metadata": {},
   "outputs": [
    {
     "data": {
      "text/plain": [
       "i    100\n",
       "j    102\n",
       "dtype: int64"
      ]
     },
     "execution_count": 65,
     "metadata": {},
     "output_type": "execute_result"
    }
   ],
   "source": [
    "import pandas as pd\n",
    "L1=[1,3,5,4,6,7,8,10,100,102]\n",
    "S1=pd.Series(L1,index=[\"a\",\"b\",\"c\",\"d\",\"e\",\"f\",\"g\",\"h\",\"i\",\"j\"])\n",
    "S1[S1>=100]\n",
    "S1.iloc[8:10]\n",
    "S1.loc[\"i\":\"j\"]\n",
    "S1.loc[[\"i\",\"j\"]]\n",
    "\n"
   ]
  },
  {
   "cell_type": "code",
   "execution_count": 66,
   "metadata": {},
   "outputs": [
    {
     "name": "stdout",
     "output_type": "stream",
     "text": [
      "a    0.25\n",
      "b    0.50\n",
      "c    0.75\n",
      "d    1.00\n",
      "dtype: float64\n"
     ]
    },
    {
     "data": {
      "text/plain": [
       "b    0.50\n",
       "c    0.75\n",
       "dtype: float64"
      ]
     },
     "execution_count": 66,
     "metadata": {},
     "output_type": "execute_result"
    }
   ],
   "source": [
    "#There are two ways of filtering on pandas's series or dataframe object\n",
    "data = pd.Series([0.25,0.5,0.75,1.0],index=['a','b','c','d'])\n",
    "print(data)\n",
    "#method 1: by masking\n",
    "#It will filter based on the index values of the return \n",
    "#boolean series object\n",
    "data[data>0.6]\n",
    "#Method 2: By slicing position\n",
    "data.iloc[0:2]\n",
    "#Method 3: by index \n",
    "\n",
    "data.loc[\"b\":\"c\"]\n",
    "                                               \n",
    "                                               \n",
    "\n"
   ]
  },
  {
   "cell_type": "code",
   "execution_count": 67,
   "metadata": {},
   "outputs": [
    {
     "data": {
      "text/plain": [
       "A1    1\n",
       "A2    2\n",
       "A3    3\n",
       "A4    4\n",
       "dtype: int64"
      ]
     },
     "execution_count": 67,
     "metadata": {},
     "output_type": "execute_result"
    }
   ],
   "source": [
    "import pandas as pd\n",
    "Dict1={\"A1\":1,\"A2\":2,\"A3\":3,\"A4\":4}\n",
    "ID=pd.Series(Dict1)\n",
    "ID"
   ]
  },
  {
   "cell_type": "raw",
   "metadata": {},
   "source": [
    "Quiz"
   ]
  },
  {
   "cell_type": "raw",
   "metadata": {},
   "source": [
    "To calculate the daily return and sort the result accordingly"
   ]
  },
  {
   "cell_type": "code",
   "execution_count": 3,
   "metadata": {},
   "outputs": [],
   "source": [
    "import pandas as pd\n",
    "S1=pd.Series([26000,300,5,170],index=[\"HSI\",\"0700.HK\",\"1398.HK\",\"388.HK\"])\n",
    "S2=pd.Series([26100,350,5.5,185],index=[\"HSI\",\"0700.HK\",\"1398.HK\",\"388.HK\"])"
   ]
  },
  {
   "cell_type": "code",
   "execution_count": 4,
   "metadata": {},
   "outputs": [],
   "source": [
    "S3=(S2-S1)/S1"
   ]
  },
  {
   "cell_type": "code",
   "execution_count": 13,
   "metadata": {},
   "outputs": [
    {
     "data": {
      "text/plain": [
       "0700.HK    0.166667\n",
       "1398.HK    0.100000\n",
       "388.HK     0.088235\n",
       "HSI        0.003846\n",
       "dtype: float64"
      ]
     },
     "execution_count": 13,
     "metadata": {},
     "output_type": "execute_result"
    }
   ],
   "source": [
    "S3.sort_values(ascending=False)"
   ]
  },
  {
   "cell_type": "raw",
   "metadata": {},
   "source": [
    "Note: You could use index attribute to get the index values "
   ]
  },
  {
   "cell_type": "code",
   "execution_count": 14,
   "metadata": {},
   "outputs": [
    {
     "data": {
      "text/plain": [
       "['HSI', '0700.HK', '1398.HK', '388.HK']"
      ]
     },
     "execution_count": 14,
     "metadata": {},
     "output_type": "execute_result"
    }
   ],
   "source": [
    "list(S3.index)"
   ]
  },
  {
   "cell_type": "raw",
   "metadata": {},
   "source": [
    "To get the list of instructment with daily return>=0.1"
   ]
  },
  {
   "cell_type": "code",
   "execution_count": 15,
   "metadata": {},
   "outputs": [
    {
     "data": {
      "text/plain": [
       "['0700.HK', '1398.HK']"
      ]
     },
     "execution_count": 15,
     "metadata": {},
     "output_type": "execute_result"
    }
   ],
   "source": [
    "list(S3[S3>=0.1].index)"
   ]
  },
  {
   "cell_type": "markdown",
   "metadata": {},
   "source": [
    "### Dataframe"
   ]
  },
  {
   "cell_type": "code",
   "execution_count": 26,
   "metadata": {},
   "outputs": [
    {
     "data": {
      "text/html": [
       "<div>\n",
       "<style scoped>\n",
       "    .dataframe tbody tr th:only-of-type {\n",
       "        vertical-align: middle;\n",
       "    }\n",
       "\n",
       "    .dataframe tbody tr th {\n",
       "        vertical-align: top;\n",
       "    }\n",
       "\n",
       "    .dataframe thead th {\n",
       "        text-align: right;\n",
       "    }\n",
       "</style>\n",
       "<table border=\"1\" class=\"dataframe\">\n",
       "  <thead>\n",
       "    <tr style=\"text-align: right;\">\n",
       "      <th></th>\n",
       "      <th>ID</th>\n",
       "      <th>First_Name</th>\n",
       "      <th>Income</th>\n",
       "      <th>Last_Name</th>\n",
       "    </tr>\n",
       "  </thead>\n",
       "  <tbody>\n",
       "    <tr>\n",
       "      <th>A1</th>\n",
       "      <td>1</td>\n",
       "      <td>Peter</td>\n",
       "      <td>1000</td>\n",
       "      <td>Lee</td>\n",
       "    </tr>\n",
       "    <tr>\n",
       "      <th>A2</th>\n",
       "      <td>2</td>\n",
       "      <td>Victor</td>\n",
       "      <td>20000</td>\n",
       "      <td>Chan</td>\n",
       "    </tr>\n",
       "    <tr>\n",
       "      <th>A3</th>\n",
       "      <td>3</td>\n",
       "      <td>Albert</td>\n",
       "      <td>3000</td>\n",
       "      <td>Tam</td>\n",
       "    </tr>\n",
       "    <tr>\n",
       "      <th>A4</th>\n",
       "      <td>4</td>\n",
       "      <td>Alice</td>\n",
       "      <td>4000</td>\n",
       "      <td>Cheung</td>\n",
       "    </tr>\n",
       "  </tbody>\n",
       "</table>\n",
       "</div>"
      ],
      "text/plain": [
       "    ID First_Name  Income Last_Name\n",
       "A1   1      Peter    1000       Lee\n",
       "A2   2     Victor   20000      Chan\n",
       "A3   3     Albert    3000       Tam\n",
       "A4   4      Alice    4000    Cheung"
      ]
     },
     "execution_count": 26,
     "metadata": {},
     "output_type": "execute_result"
    }
   ],
   "source": [
    "#Exercise\n",
    "#Create the dataframe for the following dictionaries:\n",
    "#column name for Dict1 is \"ID\"\n",
    "#column namne for Dict2 is \"Name\"\n",
    "#column name for Dict3 is \"Income\"\n",
    "import pandas as pd\n",
    "Dict1={\"A1\":1,\"A2\":2,\"A3\":3,\"A4\":4}\n",
    "Dict2={\"A1\":\"Peter\",\"A2\":\"Victor\",\"A3\":\"Albert\",\"A4\":\"Alice\"}\n",
    "Dict3={\"A1\":1000,\"A2\":20000,\"A3\":3000,\"A4\":4000}\n",
    "Dict4={\"A1\":\"Lee\",\"A2\":\"Chan\",\"A3\":\"Tam\",\"A4\":\"Cheung\"}\n",
    "\n",
    "ID=pd.Series(Dict1)\n",
    "First_Name=pd.Series(Dict2)\n",
    "Income=pd.Series(Dict3)\n",
    "Last_Name=pd.Series(Dict4)\n",
    "df=pd.DataFrame({\"ID\":ID,\"First_Name\":First_Name,\n",
    "                 \"Income\":Income,\"Last_Name\":Last_Name})\n",
    "\n",
    "\n",
    "df\n"
   ]
  },
  {
   "cell_type": "code",
   "execution_count": 25,
   "metadata": {},
   "outputs": [
    {
     "ename": "NameError",
     "evalue": "name 'df' is not defined",
     "output_type": "error",
     "traceback": [
      "\u001b[1;31m---------------------------------------------------------------------------\u001b[0m",
      "\u001b[1;31mNameError\u001b[0m                                 Traceback (most recent call last)",
      "\u001b[1;32m<ipython-input-25-586230a0df85>\u001b[0m in \u001b[0;36m<module>\u001b[1;34m\u001b[0m\n\u001b[1;32m----> 1\u001b[1;33m \u001b[0mdf\u001b[0m\u001b[1;33m[\u001b[0m\u001b[1;34m\"Full_Name\"\u001b[0m\u001b[1;33m]\u001b[0m\u001b[1;33m=\u001b[0m\u001b[0mdf\u001b[0m\u001b[1;33m[\u001b[0m\u001b[1;34m\"First_Name\"\u001b[0m\u001b[1;33m]\u001b[0m\u001b[1;33m+\u001b[0m\u001b[1;34m\" \"\u001b[0m\u001b[1;33m+\u001b[0m\u001b[0mdf\u001b[0m\u001b[1;33m[\u001b[0m\u001b[1;34m\"Last_Name\"\u001b[0m\u001b[1;33m]\u001b[0m\u001b[1;33m\u001b[0m\u001b[1;33m\u001b[0m\u001b[0m\n\u001b[0m\u001b[0;32m      2\u001b[0m \u001b[1;33m\u001b[0m\u001b[0m\n\u001b[0;32m      3\u001b[0m \u001b[0mdf\u001b[0m\u001b[1;33m\u001b[0m\u001b[1;33m\u001b[0m\u001b[0m\n",
      "\u001b[1;31mNameError\u001b[0m: name 'df' is not defined"
     ]
    }
   ],
   "source": [
    "df[\"Full_Name\"]=df[\"First_Name\"]+\" \"+df[\"Last_Name\"]\n",
    "\n",
    "df\n"
   ]
  },
  {
   "cell_type": "markdown",
   "metadata": {},
   "source": [
    "### Filter by boolean series"
   ]
  },
  {
   "cell_type": "code",
   "execution_count": 70,
   "metadata": {},
   "outputs": [
    {
     "data": {
      "text/html": [
       "<div>\n",
       "<style scoped>\n",
       "    .dataframe tbody tr th:only-of-type {\n",
       "        vertical-align: middle;\n",
       "    }\n",
       "\n",
       "    .dataframe tbody tr th {\n",
       "        vertical-align: top;\n",
       "    }\n",
       "\n",
       "    .dataframe thead th {\n",
       "        text-align: right;\n",
       "    }\n",
       "</style>\n",
       "<table border=\"1\" class=\"dataframe\">\n",
       "  <thead>\n",
       "    <tr style=\"text-align: right;\">\n",
       "      <th></th>\n",
       "      <th>ID</th>\n",
       "      <th>First_Name</th>\n",
       "      <th>Income</th>\n",
       "      <th>Last_Name</th>\n",
       "      <th>Full_Name</th>\n",
       "    </tr>\n",
       "  </thead>\n",
       "  <tbody>\n",
       "    <tr>\n",
       "      <th>A1</th>\n",
       "      <td>1</td>\n",
       "      <td>Peter</td>\n",
       "      <td>1000</td>\n",
       "      <td>Lee</td>\n",
       "      <td>Peter Lee</td>\n",
       "    </tr>\n",
       "  </tbody>\n",
       "</table>\n",
       "</div>"
      ],
      "text/plain": [
       "    ID First_Name  Income Last_Name  Full_Name\n",
       "A1   1      Peter    1000       Lee  Peter Lee"
      ]
     },
     "execution_count": 70,
     "metadata": {},
     "output_type": "execute_result"
    }
   ],
   "source": [
    "df[df.Income<3000]"
   ]
  },
  {
   "cell_type": "markdown",
   "metadata": {},
   "source": [
    "### filter by position\n"
   ]
  },
  {
   "cell_type": "code",
   "execution_count": 71,
   "metadata": {},
   "outputs": [
    {
     "data": {
      "text/html": [
       "<div>\n",
       "<style scoped>\n",
       "    .dataframe tbody tr th:only-of-type {\n",
       "        vertical-align: middle;\n",
       "    }\n",
       "\n",
       "    .dataframe tbody tr th {\n",
       "        vertical-align: top;\n",
       "    }\n",
       "\n",
       "    .dataframe thead th {\n",
       "        text-align: right;\n",
       "    }\n",
       "</style>\n",
       "<table border=\"1\" class=\"dataframe\">\n",
       "  <thead>\n",
       "    <tr style=\"text-align: right;\">\n",
       "      <th></th>\n",
       "      <th>ID</th>\n",
       "      <th>First_Name</th>\n",
       "      <th>Income</th>\n",
       "      <th>Last_Name</th>\n",
       "      <th>Full_Name</th>\n",
       "    </tr>\n",
       "  </thead>\n",
       "  <tbody>\n",
       "    <tr>\n",
       "      <th>A1</th>\n",
       "      <td>1</td>\n",
       "      <td>Peter</td>\n",
       "      <td>1000</td>\n",
       "      <td>Lee</td>\n",
       "      <td>Peter Lee</td>\n",
       "    </tr>\n",
       "  </tbody>\n",
       "</table>\n",
       "</div>"
      ],
      "text/plain": [
       "    ID First_Name  Income Last_Name  Full_Name\n",
       "A1   1      Peter    1000       Lee  Peter Lee"
      ]
     },
     "execution_count": 71,
     "metadata": {},
     "output_type": "execute_result"
    }
   ],
   "source": [
    "df.iloc[:1,:]"
   ]
  },
  {
   "cell_type": "markdown",
   "metadata": {},
   "source": [
    "### Filter by indexes"
   ]
  },
  {
   "cell_type": "raw",
   "metadata": {},
   "source": [
    "Another way of creating dataframe with dictionary"
   ]
  },
  {
   "cell_type": "code",
   "execution_count": 73,
   "metadata": {},
   "outputs": [
    {
     "data": {
      "text/html": [
       "<div>\n",
       "<style scoped>\n",
       "    .dataframe tbody tr th:only-of-type {\n",
       "        vertical-align: middle;\n",
       "    }\n",
       "\n",
       "    .dataframe tbody tr th {\n",
       "        vertical-align: top;\n",
       "    }\n",
       "\n",
       "    .dataframe thead th {\n",
       "        text-align: right;\n",
       "    }\n",
       "</style>\n",
       "<table border=\"1\" class=\"dataframe\">\n",
       "  <thead>\n",
       "    <tr style=\"text-align: right;\">\n",
       "      <th></th>\n",
       "      <th>A1</th>\n",
       "      <th>A2</th>\n",
       "    </tr>\n",
       "  </thead>\n",
       "  <tbody>\n",
       "    <tr>\n",
       "      <th>0</th>\n",
       "      <td>1</td>\n",
       "      <td>2</td>\n",
       "    </tr>\n",
       "    <tr>\n",
       "      <th>1</th>\n",
       "      <td>2</td>\n",
       "      <td>3</td>\n",
       "    </tr>\n",
       "    <tr>\n",
       "      <th>2</th>\n",
       "      <td>3</td>\n",
       "      <td>4</td>\n",
       "    </tr>\n",
       "    <tr>\n",
       "      <th>3</th>\n",
       "      <td>4</td>\n",
       "      <td>6</td>\n",
       "    </tr>\n",
       "    <tr>\n",
       "      <th>4</th>\n",
       "      <td>5</td>\n",
       "      <td>7</td>\n",
       "    </tr>\n",
       "  </tbody>\n",
       "</table>\n",
       "</div>"
      ],
      "text/plain": [
       "   A1  A2\n",
       "0   1   2\n",
       "1   2   3\n",
       "2   3   4\n",
       "3   4   6\n",
       "4   5   7"
      ]
     },
     "execution_count": 73,
     "metadata": {},
     "output_type": "execute_result"
    }
   ],
   "source": [
    "df1=pd.DataFrame({\"A1\":[1,2,3,4,5],\"A2\":[2,3,4,6,7]})\n",
    "df1"
   ]
  },
  {
   "cell_type": "code",
   "execution_count": 74,
   "metadata": {},
   "outputs": [
    {
     "data": {
      "text/html": [
       "<div>\n",
       "<style scoped>\n",
       "    .dataframe tbody tr th:only-of-type {\n",
       "        vertical-align: middle;\n",
       "    }\n",
       "\n",
       "    .dataframe tbody tr th {\n",
       "        vertical-align: top;\n",
       "    }\n",
       "\n",
       "    .dataframe thead th {\n",
       "        text-align: right;\n",
       "    }\n",
       "</style>\n",
       "<table border=\"1\" class=\"dataframe\">\n",
       "  <thead>\n",
       "    <tr style=\"text-align: right;\">\n",
       "      <th></th>\n",
       "      <th>First_Name</th>\n",
       "      <th>ID</th>\n",
       "      <th>Income</th>\n",
       "    </tr>\n",
       "  </thead>\n",
       "  <tbody>\n",
       "    <tr>\n",
       "      <th>A1</th>\n",
       "      <td>Peter</td>\n",
       "      <td>1</td>\n",
       "      <td>1000</td>\n",
       "    </tr>\n",
       "    <tr>\n",
       "      <th>A2</th>\n",
       "      <td>Victor</td>\n",
       "      <td>2</td>\n",
       "      <td>20000</td>\n",
       "    </tr>\n",
       "    <tr>\n",
       "      <th>A3</th>\n",
       "      <td>Albert</td>\n",
       "      <td>3</td>\n",
       "      <td>3000</td>\n",
       "    </tr>\n",
       "    <tr>\n",
       "      <th>A4</th>\n",
       "      <td>Alice</td>\n",
       "      <td>4</td>\n",
       "      <td>2000</td>\n",
       "    </tr>\n",
       "  </tbody>\n",
       "</table>\n",
       "</div>"
      ],
      "text/plain": [
       "   First_Name  ID  Income\n",
       "A1      Peter   1    1000\n",
       "A2     Victor   2   20000\n",
       "A3     Albert   3    3000\n",
       "A4      Alice   4    2000"
      ]
     },
     "execution_count": 74,
     "metadata": {},
     "output_type": "execute_result"
    }
   ],
   "source": [
    "df2=pd.DataFrame({\"First_Name\":[\"Peter\",\"Victor\",\"Albert\",\"Alice\"],\n",
    "                 \"ID\":[1,2,3,4],\n",
    "                 \"Income\":[1000,20000,3000,2000],\n",
    "                 },index=[\"A1\",\"A2\",\"A3\",\"A4\"])\n",
    "df2"
   ]
  },
  {
   "cell_type": "raw",
   "metadata": {},
   "source": [
    "Quiz To get the list of first names in which income <=3000"
   ]
  },
  {
   "cell_type": "code",
   "execution_count": 75,
   "metadata": {},
   "outputs": [
    {
     "data": {
      "text/plain": [
       "['Peter', 'Albert', 'Alice']"
      ]
     },
     "execution_count": 75,
     "metadata": {},
     "output_type": "execute_result"
    }
   ],
   "source": [
    "df2=pd.DataFrame({\"First_Name\":[\"Peter\",\"Victor\",\"Albert\",\"Alice\"],\n",
    "                 \"ID\":[1,2,3,4],\n",
    "                 \"Income\":[1000,20000,3000,2000],\n",
    "                 },index=[\"A1\",\"A2\",\"A3\",\"A4\"])\n",
    "df2\n",
    "\n",
    "df2[df2[\"Income\"]<=3000][\"First_Name\"].tolist()"
   ]
  },
  {
   "cell_type": "code",
   "execution_count": 76,
   "metadata": {},
   "outputs": [
    {
     "data": {
      "text/plain": [
       "['Peter', 'Albert', 'Alice']"
      ]
     },
     "execution_count": 76,
     "metadata": {},
     "output_type": "execute_result"
    }
   ],
   "source": [
    "df2[\"First_Name\"][df2[\"Income\"]<=3000].tolist()"
   ]
  },
  {
   "cell_type": "markdown",
   "metadata": {},
   "source": [
    "### Exercise"
   ]
  },
  {
   "cell_type": "code",
   "execution_count": 33,
   "metadata": {},
   "outputs": [],
   "source": [
    "import pandas as pd\n",
    "df=pd.DataFrame({\"Stock_Code\":[\"0700.HK\",\"2800.HK\",\"^HSI\",\"1398.HK\",\"0823.HK\"],\n",
    "                 \"High\":[20,30,40,50,60],\n",
    "                 \"Low\":[10,20,30,40,50],\n",
    "                 \"Open\":[80,90,100,110,120],\n",
    "                 \"Close\":[70,80,90,100,110],\n",
    "                 \"Volume\":[30000,40000,50000,60000,70000]})"
   ]
  },
  {
   "cell_type": "code",
   "execution_count": 34,
   "metadata": {},
   "outputs": [
    {
     "data": {
      "text/html": [
       "<div>\n",
       "<style scoped>\n",
       "    .dataframe tbody tr th:only-of-type {\n",
       "        vertical-align: middle;\n",
       "    }\n",
       "\n",
       "    .dataframe tbody tr th {\n",
       "        vertical-align: top;\n",
       "    }\n",
       "\n",
       "    .dataframe thead th {\n",
       "        text-align: right;\n",
       "    }\n",
       "</style>\n",
       "<table border=\"1\" class=\"dataframe\">\n",
       "  <thead>\n",
       "    <tr style=\"text-align: right;\">\n",
       "      <th></th>\n",
       "      <th>Stock_Code</th>\n",
       "      <th>High</th>\n",
       "      <th>Low</th>\n",
       "      <th>Open</th>\n",
       "      <th>Close</th>\n",
       "      <th>Volume</th>\n",
       "    </tr>\n",
       "  </thead>\n",
       "  <tbody>\n",
       "    <tr>\n",
       "      <th>0</th>\n",
       "      <td>0700.HK</td>\n",
       "      <td>20</td>\n",
       "      <td>10</td>\n",
       "      <td>80</td>\n",
       "      <td>70</td>\n",
       "      <td>30000</td>\n",
       "    </tr>\n",
       "    <tr>\n",
       "      <th>1</th>\n",
       "      <td>2800.HK</td>\n",
       "      <td>30</td>\n",
       "      <td>20</td>\n",
       "      <td>90</td>\n",
       "      <td>80</td>\n",
       "      <td>40000</td>\n",
       "    </tr>\n",
       "    <tr>\n",
       "      <th>2</th>\n",
       "      <td>^HSI</td>\n",
       "      <td>40</td>\n",
       "      <td>30</td>\n",
       "      <td>100</td>\n",
       "      <td>90</td>\n",
       "      <td>50000</td>\n",
       "    </tr>\n",
       "    <tr>\n",
       "      <th>3</th>\n",
       "      <td>1398.HK</td>\n",
       "      <td>50</td>\n",
       "      <td>40</td>\n",
       "      <td>110</td>\n",
       "      <td>100</td>\n",
       "      <td>60000</td>\n",
       "    </tr>\n",
       "    <tr>\n",
       "      <th>4</th>\n",
       "      <td>0823.HK</td>\n",
       "      <td>60</td>\n",
       "      <td>50</td>\n",
       "      <td>120</td>\n",
       "      <td>110</td>\n",
       "      <td>70000</td>\n",
       "    </tr>\n",
       "  </tbody>\n",
       "</table>\n",
       "</div>"
      ],
      "text/plain": [
       "  Stock_Code  High  Low  Open  Close  Volume\n",
       "0    0700.HK    20   10    80     70   30000\n",
       "1    2800.HK    30   20    90     80   40000\n",
       "2       ^HSI    40   30   100     90   50000\n",
       "3    1398.HK    50   40   110    100   60000\n",
       "4    0823.HK    60   50   120    110   70000"
      ]
     },
     "execution_count": 34,
     "metadata": {},
     "output_type": "execute_result"
    }
   ],
   "source": [
    "df"
   ]
  },
  {
   "cell_type": "raw",
   "metadata": {},
   "source": [
    "Question 1: To filter rows where Volume>=50000"
   ]
  },
  {
   "cell_type": "code",
   "execution_count": 35,
   "metadata": {},
   "outputs": [
    {
     "data": {
      "text/html": [
       "<div>\n",
       "<style scoped>\n",
       "    .dataframe tbody tr th:only-of-type {\n",
       "        vertical-align: middle;\n",
       "    }\n",
       "\n",
       "    .dataframe tbody tr th {\n",
       "        vertical-align: top;\n",
       "    }\n",
       "\n",
       "    .dataframe thead th {\n",
       "        text-align: right;\n",
       "    }\n",
       "</style>\n",
       "<table border=\"1\" class=\"dataframe\">\n",
       "  <thead>\n",
       "    <tr style=\"text-align: right;\">\n",
       "      <th></th>\n",
       "      <th>Stock_Code</th>\n",
       "      <th>High</th>\n",
       "      <th>Low</th>\n",
       "      <th>Open</th>\n",
       "      <th>Close</th>\n",
       "      <th>Volume</th>\n",
       "    </tr>\n",
       "  </thead>\n",
       "  <tbody>\n",
       "    <tr>\n",
       "      <th>3</th>\n",
       "      <td>1398.HK</td>\n",
       "      <td>50</td>\n",
       "      <td>40</td>\n",
       "      <td>110</td>\n",
       "      <td>100</td>\n",
       "      <td>60000</td>\n",
       "    </tr>\n",
       "    <tr>\n",
       "      <th>4</th>\n",
       "      <td>0823.HK</td>\n",
       "      <td>60</td>\n",
       "      <td>50</td>\n",
       "      <td>120</td>\n",
       "      <td>110</td>\n",
       "      <td>70000</td>\n",
       "    </tr>\n",
       "  </tbody>\n",
       "</table>\n",
       "</div>"
      ],
      "text/plain": [
       "  Stock_Code  High  Low  Open  Close  Volume\n",
       "3    1398.HK    50   40   110    100   60000\n",
       "4    0823.HK    60   50   120    110   70000"
      ]
     },
     "execution_count": 35,
     "metadata": {},
     "output_type": "execute_result"
    }
   ],
   "source": [
    "df[df.Volume>50000]\n",
    "\n",
    "\n",
    "\n"
   ]
  },
  {
   "cell_type": "raw",
   "metadata": {},
   "source": [
    "Question 2: To extract the stock codes as list in which the volume >=50000"
   ]
  },
  {
   "cell_type": "code",
   "execution_count": 36,
   "metadata": {},
   "outputs": [
    {
     "data": {
      "text/plain": [
       "['1398.HK', '0823.HK']"
      ]
     },
     "execution_count": 36,
     "metadata": {},
     "output_type": "execute_result"
    }
   ],
   "source": [
    "\n",
    "df.Stock_Code[df.Volume>50000].to_list()\n",
    "\n",
    "\n"
   ]
  },
  {
   "cell_type": "raw",
   "metadata": {},
   "source": [
    "Question 3: To add one colume \"Daily_Return\" which equals to the difference between the High value and the low value"
   ]
  },
  {
   "cell_type": "code",
   "execution_count": 39,
   "metadata": {},
   "outputs": [],
   "source": [
    "df[\"Daily_Return\"] = df.High - df.Low\n",
    "\n",
    "\n"
   ]
  },
  {
   "cell_type": "markdown",
   "metadata": {},
   "source": [
    "### Deal with missing values in data frame"
   ]
  },
  {
   "cell_type": "code",
   "execution_count": 83,
   "metadata": {},
   "outputs": [
    {
     "name": "stdout",
     "output_type": "stream",
     "text": [
      "a     1.0\n",
      "b     2.0\n",
      "c     NaN\n",
      "d    10.0\n",
      "dtype: float64\n"
     ]
    },
    {
     "data": {
      "text/plain": [
       "['c']"
      ]
     },
     "execution_count": 83,
     "metadata": {},
     "output_type": "execute_result"
    }
   ],
   "source": [
    "a=pd.Series({\"a\":1,\"b\":2,\"c\":None,\"d\":10})\n",
    "print(a)\n",
    "list(a[a.isnull()].index)"
   ]
  },
  {
   "cell_type": "code",
   "execution_count": 84,
   "metadata": {},
   "outputs": [
    {
     "data": {
      "text/plain": [
       "2"
      ]
     },
     "execution_count": 84,
     "metadata": {},
     "output_type": "execute_result"
    }
   ],
   "source": [
    "#To check the number of missing values in the series\n",
    "a=pd.Series({\"a\":1,\"b\":2,\"c\":None,\"d\":10,\"e\":None})\n",
    "a.isnull().sum()"
   ]
  },
  {
   "cell_type": "code",
   "execution_count": 85,
   "metadata": {},
   "outputs": [
    {
     "name": "stdout",
     "output_type": "stream",
     "text": [
      "a     1.0\n",
      "b     2.0\n",
      "c     NaN\n",
      "d    10.0\n",
      "dtype: float64\n",
      "\n",
      "Index(['c'], dtype='object')\n",
      "\n",
      "a     1.0\n",
      "b     2.0\n",
      "d    10.0\n",
      "dtype: float64\n"
     ]
    }
   ],
   "source": [
    "a=pd.Series({\"a\":1,\"b\":2,\"c\":None,\"d\":10})\n",
    "print(a)\n",
    "print()\n",
    "print(a[a.isnull()].index)\n",
    "print()\n",
    "print(a[a.notnull()])\n",
    "\n"
   ]
  },
  {
   "cell_type": "code",
   "execution_count": 86,
   "metadata": {},
   "outputs": [
    {
     "name": "stdout",
     "output_type": "stream",
     "text": [
      "a     1.0\n",
      "b     2.0\n",
      "c     NaN\n",
      "d    10.0\n",
      "dtype: float64\n",
      "\n",
      "a    False\n",
      "b    False\n",
      "c     True\n",
      "d    False\n",
      "dtype: bool\n",
      "\n"
     ]
    }
   ],
   "source": [
    "a=pd.Series({\"a\":1,\"b\":2,\"c\":None,\"d\":10})\n",
    "print(a)\n",
    "print()\n",
    "print(a.isnull())\n",
    "print()\n",
    "\n"
   ]
  },
  {
   "cell_type": "markdown",
   "metadata": {},
   "source": [
    "### Exercise "
   ]
  },
  {
   "cell_type": "code",
   "execution_count": 87,
   "metadata": {},
   "outputs": [],
   "source": [
    "import pandas as pd"
   ]
  },
  {
   "cell_type": "code",
   "execution_count": 88,
   "metadata": {},
   "outputs": [],
   "source": [
    "?pd.read_csv"
   ]
  },
  {
   "cell_type": "code",
   "execution_count": 89,
   "metadata": {},
   "outputs": [],
   "source": [
    "data=pd.read_csv(\"D:/TrainingData_latest.csv\",sep=\";\")"
   ]
  },
  {
   "cell_type": "code",
   "execution_count": 90,
   "metadata": {},
   "outputs": [
    {
     "data": {
      "text/plain": [
       "(13949, 22)"
      ]
     },
     "execution_count": 90,
     "metadata": {},
     "output_type": "execute_result"
    }
   ],
   "source": [
    "data.shape"
   ]
  },
  {
   "cell_type": "code",
   "execution_count": 91,
   "metadata": {},
   "outputs": [
    {
     "data": {
      "text/plain": [
       "(13949, 22)"
      ]
     },
     "execution_count": 91,
     "metadata": {},
     "output_type": "execute_result"
    }
   ],
   "source": [
    "data=pd.read_csv(\"D:/TrainingData_latest.csv\",sep=\";\")\n",
    "data.shape\n"
   ]
  },
  {
   "cell_type": "code",
   "execution_count": 92,
   "metadata": {},
   "outputs": [
    {
     "data": {
      "text/html": [
       "<div>\n",
       "<style scoped>\n",
       "    .dataframe tbody tr th:only-of-type {\n",
       "        vertical-align: middle;\n",
       "    }\n",
       "\n",
       "    .dataframe tbody tr th {\n",
       "        vertical-align: top;\n",
       "    }\n",
       "\n",
       "    .dataframe thead th {\n",
       "        text-align: right;\n",
       "    }\n",
       "</style>\n",
       "<table border=\"1\" class=\"dataframe\">\n",
       "  <thead>\n",
       "    <tr style=\"text-align: right;\">\n",
       "      <th></th>\n",
       "      <th>ID</th>\n",
       "      <th>NumComplains</th>\n",
       "      <th>RACH_Setup_Completion_Success_Rate_AVG</th>\n",
       "      <th>Total_RRC_Connection_Setup_Success_Ratio_AVG</th>\n",
       "      <th>Total_RRC_Connection_Re_establishment_Success_Ratio_AVG</th>\n",
       "      <th>Radio_Bearer_Success_Ratio_AVG</th>\n",
       "      <th>ERAB_SetupSR_AVG</th>\n",
       "      <th>HO_Success_Ratio_intra_eNB_AVG</th>\n",
       "      <th>Average_CQI_AVG</th>\n",
       "      <th>Radio_Bearer_Drop_Ratio_AVG</th>\n",
       "      <th>Average_Physical_Resource_Block_Usage_UL_AVG</th>\n",
       "      <th>Average_Physical_Resource_Block_Usage_DL_AVG</th>\n",
       "      <th>Complete_RACH_Setup_Success_Rate_AVG</th>\n",
       "      <th>AGG1_blocked_distribution_rate_AVG</th>\n",
       "      <th>AGG2_blocked_distribution_rate_AVG</th>\n",
       "      <th>AGG4_blocked_distribution_rate_AVG</th>\n",
       "      <th>AGG8_blocked_distribution_rate_AVG</th>\n",
       "      <th>ECM_failure_ratio_due_to_Rejection_by_RRM_RAC_AVG</th>\n",
       "      <th>AGG_level_block_Rate_AVG</th>\n",
       "      <th>ERAB_Drop_Ratio_with_UE_Lost_cause_initiated_by_eNB_AVG</th>\n",
       "    </tr>\n",
       "  </thead>\n",
       "  <tbody>\n",
       "    <tr>\n",
       "      <th>count</th>\n",
       "      <td>13949.000000</td>\n",
       "      <td>13949.000000</td>\n",
       "      <td>13948.000000</td>\n",
       "      <td>13947.000000</td>\n",
       "      <td>13538.000000</td>\n",
       "      <td>13947.000000</td>\n",
       "      <td>13947.000000</td>\n",
       "      <td>13799.000000</td>\n",
       "      <td>13948.000000</td>\n",
       "      <td>13569.000000</td>\n",
       "      <td>13869.000000</td>\n",
       "      <td>13949.000000</td>\n",
       "      <td>13947.000000</td>\n",
       "      <td>13949.000000</td>\n",
       "      <td>13949.000000</td>\n",
       "      <td>13949.000000</td>\n",
       "      <td>13949.000000</td>\n",
       "      <td>13949.0</td>\n",
       "      <td>13949.000000</td>\n",
       "      <td>13949.000000</td>\n",
       "    </tr>\n",
       "    <tr>\n",
       "      <th>mean</th>\n",
       "      <td>6975.000000</td>\n",
       "      <td>0.111764</td>\n",
       "      <td>0.986888</td>\n",
       "      <td>0.998041</td>\n",
       "      <td>0.480027</td>\n",
       "      <td>0.998881</td>\n",
       "      <td>0.999173</td>\n",
       "      <td>0.991812</td>\n",
       "      <td>9.757671</td>\n",
       "      <td>0.004751</td>\n",
       "      <td>1.710451</td>\n",
       "      <td>11.118822</td>\n",
       "      <td>0.851352</td>\n",
       "      <td>0.181070</td>\n",
       "      <td>0.177167</td>\n",
       "      <td>0.187096</td>\n",
       "      <td>0.294358</td>\n",
       "      <td>0.0</td>\n",
       "      <td>0.000194</td>\n",
       "      <td>0.000095</td>\n",
       "    </tr>\n",
       "    <tr>\n",
       "      <th>std</th>\n",
       "      <td>4026.873787</td>\n",
       "      <td>0.315088</td>\n",
       "      <td>0.031489</td>\n",
       "      <td>0.003141</td>\n",
       "      <td>0.221058</td>\n",
       "      <td>0.002354</td>\n",
       "      <td>0.004461</td>\n",
       "      <td>0.017259</td>\n",
       "      <td>1.301091</td>\n",
       "      <td>0.018849</td>\n",
       "      <td>2.333754</td>\n",
       "      <td>10.667966</td>\n",
       "      <td>0.104801</td>\n",
       "      <td>0.104939</td>\n",
       "      <td>0.080654</td>\n",
       "      <td>0.110701</td>\n",
       "      <td>0.181164</td>\n",
       "      <td>0.0</td>\n",
       "      <td>0.000435</td>\n",
       "      <td>0.000425</td>\n",
       "    </tr>\n",
       "    <tr>\n",
       "      <th>min</th>\n",
       "      <td>1.000000</td>\n",
       "      <td>0.000000</td>\n",
       "      <td>0.325024</td>\n",
       "      <td>0.857417</td>\n",
       "      <td>0.005460</td>\n",
       "      <td>0.862952</td>\n",
       "      <td>0.793300</td>\n",
       "      <td>0.500000</td>\n",
       "      <td>4.929429</td>\n",
       "      <td>0.000110</td>\n",
       "      <td>0.025000</td>\n",
       "      <td>0.300000</td>\n",
       "      <td>0.008698</td>\n",
       "      <td>0.000000</td>\n",
       "      <td>0.000000</td>\n",
       "      <td>0.000000</td>\n",
       "      <td>0.000000</td>\n",
       "      <td>0.0</td>\n",
       "      <td>0.000000</td>\n",
       "      <td>0.000000</td>\n",
       "    </tr>\n",
       "    <tr>\n",
       "      <th>25%</th>\n",
       "      <td>3488.000000</td>\n",
       "      <td>0.000000</td>\n",
       "      <td>0.988516</td>\n",
       "      <td>0.997722</td>\n",
       "      <td>0.316334</td>\n",
       "      <td>0.998856</td>\n",
       "      <td>0.999444</td>\n",
       "      <td>0.991108</td>\n",
       "      <td>8.934675</td>\n",
       "      <td>0.000967</td>\n",
       "      <td>0.367647</td>\n",
       "      <td>3.501293</td>\n",
       "      <td>0.821666</td>\n",
       "      <td>0.110404</td>\n",
       "      <td>0.130690</td>\n",
       "      <td>0.112328</td>\n",
       "      <td>0.150082</td>\n",
       "      <td>0.0</td>\n",
       "      <td>0.000019</td>\n",
       "      <td>0.000015</td>\n",
       "    </tr>\n",
       "    <tr>\n",
       "      <th>50%</th>\n",
       "      <td>6975.000000</td>\n",
       "      <td>0.000000</td>\n",
       "      <td>0.995874</td>\n",
       "      <td>0.998739</td>\n",
       "      <td>0.451478</td>\n",
       "      <td>0.999318</td>\n",
       "      <td>0.999740</td>\n",
       "      <td>0.996186</td>\n",
       "      <td>9.616314</td>\n",
       "      <td>0.001812</td>\n",
       "      <td>0.981092</td>\n",
       "      <td>7.743262</td>\n",
       "      <td>0.860254</td>\n",
       "      <td>0.175200</td>\n",
       "      <td>0.193001</td>\n",
       "      <td>0.160540</td>\n",
       "      <td>0.275015</td>\n",
       "      <td>0.0</td>\n",
       "      <td>0.000073</td>\n",
       "      <td>0.000050</td>\n",
       "    </tr>\n",
       "    <tr>\n",
       "      <th>75%</th>\n",
       "      <td>10462.000000</td>\n",
       "      <td>0.000000</td>\n",
       "      <td>0.998561</td>\n",
       "      <td>0.999361</td>\n",
       "      <td>0.634576</td>\n",
       "      <td>0.999584</td>\n",
       "      <td>0.999892</td>\n",
       "      <td>0.998936</td>\n",
       "      <td>10.400963</td>\n",
       "      <td>0.003731</td>\n",
       "      <td>2.200536</td>\n",
       "      <td>15.124670</td>\n",
       "      <td>0.920287</td>\n",
       "      <td>0.239333</td>\n",
       "      <td>0.233124</td>\n",
       "      <td>0.270251</td>\n",
       "      <td>0.427979</td>\n",
       "      <td>0.0</td>\n",
       "      <td>0.000198</td>\n",
       "      <td>0.000098</td>\n",
       "    </tr>\n",
       "    <tr>\n",
       "      <th>max</th>\n",
       "      <td>13949.000000</td>\n",
       "      <td>1.000000</td>\n",
       "      <td>1.000012</td>\n",
       "      <td>1.000970</td>\n",
       "      <td>1.000000</td>\n",
       "      <td>1.000000</td>\n",
       "      <td>1.003578</td>\n",
       "      <td>1.000802</td>\n",
       "      <td>14.856340</td>\n",
       "      <td>1.000000</td>\n",
       "      <td>60.965000</td>\n",
       "      <td>79.885090</td>\n",
       "      <td>1.000000</td>\n",
       "      <td>1.000000</td>\n",
       "      <td>1.000000</td>\n",
       "      <td>1.000000</td>\n",
       "      <td>1.000000</td>\n",
       "      <td>0.0</td>\n",
       "      <td>0.013585</td>\n",
       "      <td>0.038462</td>\n",
       "    </tr>\n",
       "  </tbody>\n",
       "</table>\n",
       "</div>"
      ],
      "text/plain": [
       "                 ID   NumComplains   RACH_Setup_Completion_Success_Rate_AVG  \\\n",
       "count  13949.000000   13949.000000                             13948.000000   \n",
       "mean    6975.000000       0.111764                                 0.986888   \n",
       "std     4026.873787       0.315088                                 0.031489   \n",
       "min        1.000000       0.000000                                 0.325024   \n",
       "25%     3488.000000       0.000000                                 0.988516   \n",
       "50%     6975.000000       0.000000                                 0.995874   \n",
       "75%    10462.000000       0.000000                                 0.998561   \n",
       "max    13949.000000       1.000000                                 1.000012   \n",
       "\n",
       "        Total_RRC_Connection_Setup_Success_Ratio_AVG  \\\n",
       "count                                   13947.000000   \n",
       "mean                                        0.998041   \n",
       "std                                         0.003141   \n",
       "min                                         0.857417   \n",
       "25%                                         0.997722   \n",
       "50%                                         0.998739   \n",
       "75%                                         0.999361   \n",
       "max                                         1.000970   \n",
       "\n",
       "        Total_RRC_Connection_Re_establishment_Success_Ratio_AVG  \\\n",
       "count                                       13538.000000          \n",
       "mean                                            0.480027          \n",
       "std                                             0.221058          \n",
       "min                                             0.005460          \n",
       "25%                                             0.316334          \n",
       "50%                                             0.451478          \n",
       "75%                                             0.634576          \n",
       "max                                             1.000000          \n",
       "\n",
       "        Radio_Bearer_Success_Ratio_AVG   ERAB_SetupSR_AVG  \\\n",
       "count                     13947.000000       13947.000000   \n",
       "mean                          0.998881           0.999173   \n",
       "std                           0.002354           0.004461   \n",
       "min                           0.862952           0.793300   \n",
       "25%                           0.998856           0.999444   \n",
       "50%                           0.999318           0.999740   \n",
       "75%                           0.999584           0.999892   \n",
       "max                           1.000000           1.003578   \n",
       "\n",
       "        HO_Success_Ratio_intra_eNB_AVG   Average_CQI_AVG  \\\n",
       "count                     13799.000000      13948.000000   \n",
       "mean                          0.991812          9.757671   \n",
       "std                           0.017259          1.301091   \n",
       "min                           0.500000          4.929429   \n",
       "25%                           0.991108          8.934675   \n",
       "50%                           0.996186          9.616314   \n",
       "75%                           0.998936         10.400963   \n",
       "max                           1.000802         14.856340   \n",
       "\n",
       "        Radio_Bearer_Drop_Ratio_AVG  \\\n",
       "count                  13569.000000   \n",
       "mean                       0.004751   \n",
       "std                        0.018849   \n",
       "min                        0.000110   \n",
       "25%                        0.000967   \n",
       "50%                        0.001812   \n",
       "75%                        0.003731   \n",
       "max                        1.000000   \n",
       "\n",
       "        Average_Physical_Resource_Block_Usage_UL_AVG  \\\n",
       "count                                   13869.000000   \n",
       "mean                                        1.710451   \n",
       "std                                         2.333754   \n",
       "min                                         0.025000   \n",
       "25%                                         0.367647   \n",
       "50%                                         0.981092   \n",
       "75%                                         2.200536   \n",
       "max                                        60.965000   \n",
       "\n",
       "        Average_Physical_Resource_Block_Usage_DL_AVG  \\\n",
       "count                                   13949.000000   \n",
       "mean                                       11.118822   \n",
       "std                                        10.667966   \n",
       "min                                         0.300000   \n",
       "25%                                         3.501293   \n",
       "50%                                         7.743262   \n",
       "75%                                        15.124670   \n",
       "max                                        79.885090   \n",
       "\n",
       "        Complete_RACH_Setup_Success_Rate_AVG  \\\n",
       "count                           13947.000000   \n",
       "mean                                0.851352   \n",
       "std                                 0.104801   \n",
       "min                                 0.008698   \n",
       "25%                                 0.821666   \n",
       "50%                                 0.860254   \n",
       "75%                                 0.920287   \n",
       "max                                 1.000000   \n",
       "\n",
       "        AGG1_blocked_distribution_rate_AVG  \\\n",
       "count                         13949.000000   \n",
       "mean                              0.181070   \n",
       "std                               0.104939   \n",
       "min                               0.000000   \n",
       "25%                               0.110404   \n",
       "50%                               0.175200   \n",
       "75%                               0.239333   \n",
       "max                               1.000000   \n",
       "\n",
       "        AGG2_blocked_distribution_rate_AVG  \\\n",
       "count                         13949.000000   \n",
       "mean                              0.177167   \n",
       "std                               0.080654   \n",
       "min                               0.000000   \n",
       "25%                               0.130690   \n",
       "50%                               0.193001   \n",
       "75%                               0.233124   \n",
       "max                               1.000000   \n",
       "\n",
       "        AGG4_blocked_distribution_rate_AVG  \\\n",
       "count                         13949.000000   \n",
       "mean                              0.187096   \n",
       "std                               0.110701   \n",
       "min                               0.000000   \n",
       "25%                               0.112328   \n",
       "50%                               0.160540   \n",
       "75%                               0.270251   \n",
       "max                               1.000000   \n",
       "\n",
       "        AGG8_blocked_distribution_rate_AVG  \\\n",
       "count                         13949.000000   \n",
       "mean                              0.294358   \n",
       "std                               0.181164   \n",
       "min                               0.000000   \n",
       "25%                               0.150082   \n",
       "50%                               0.275015   \n",
       "75%                               0.427979   \n",
       "max                               1.000000   \n",
       "\n",
       "        ECM_failure_ratio_due_to_Rejection_by_RRM_RAC_AVG  \\\n",
       "count                                            13949.0    \n",
       "mean                                                 0.0    \n",
       "std                                                  0.0    \n",
       "min                                                  0.0    \n",
       "25%                                                  0.0    \n",
       "50%                                                  0.0    \n",
       "75%                                                  0.0    \n",
       "max                                                  0.0    \n",
       "\n",
       "        AGG_level_block_Rate_AVG  \\\n",
       "count               13949.000000   \n",
       "mean                    0.000194   \n",
       "std                     0.000435   \n",
       "min                     0.000000   \n",
       "25%                     0.000019   \n",
       "50%                     0.000073   \n",
       "75%                     0.000198   \n",
       "max                     0.013585   \n",
       "\n",
       "        ERAB_Drop_Ratio_with_UE_Lost_cause_initiated_by_eNB_AVG  \n",
       "count                                       13949.000000         \n",
       "mean                                            0.000095         \n",
       "std                                             0.000425         \n",
       "min                                             0.000000         \n",
       "25%                                             0.000015         \n",
       "50%                                             0.000050         \n",
       "75%                                             0.000098         \n",
       "max                                             0.038462         "
      ]
     },
     "execution_count": 92,
     "metadata": {},
     "output_type": "execute_result"
    }
   ],
   "source": [
    "data.describe()"
   ]
  },
  {
   "cell_type": "code",
   "execution_count": 93,
   "metadata": {},
   "outputs": [
    {
     "data": {
      "text/html": [
       "<div>\n",
       "<style scoped>\n",
       "    .dataframe tbody tr th:only-of-type {\n",
       "        vertical-align: middle;\n",
       "    }\n",
       "\n",
       "    .dataframe tbody tr th {\n",
       "        vertical-align: top;\n",
       "    }\n",
       "\n",
       "    .dataframe thead th {\n",
       "        text-align: right;\n",
       "    }\n",
       "</style>\n",
       "<table border=\"1\" class=\"dataframe\">\n",
       "  <thead>\n",
       "    <tr style=\"text-align: right;\">\n",
       "      <th></th>\n",
       "      <th>ID</th>\n",
       "      <th>NumComplains</th>\n",
       "      <th>hour_id</th>\n",
       "      <th>LCID</th>\n",
       "      <th>RACH_Setup_Completion_Success_Rate_AVG</th>\n",
       "      <th>Total_RRC_Connection_Setup_Success_Ratio_AVG</th>\n",
       "      <th>Total_RRC_Connection_Re_establishment_Success_Ratio_AVG</th>\n",
       "      <th>Radio_Bearer_Success_Ratio_AVG</th>\n",
       "      <th>ERAB_SetupSR_AVG</th>\n",
       "      <th>HO_Success_Ratio_intra_eNB_AVG</th>\n",
       "      <th>...</th>\n",
       "      <th>Average_Physical_Resource_Block_Usage_UL_AVG</th>\n",
       "      <th>Average_Physical_Resource_Block_Usage_DL_AVG</th>\n",
       "      <th>Complete_RACH_Setup_Success_Rate_AVG</th>\n",
       "      <th>AGG1_blocked_distribution_rate_AVG</th>\n",
       "      <th>AGG2_blocked_distribution_rate_AVG</th>\n",
       "      <th>AGG4_blocked_distribution_rate_AVG</th>\n",
       "      <th>AGG8_blocked_distribution_rate_AVG</th>\n",
       "      <th>ECM_failure_ratio_due_to_Rejection_by_RRM_RAC_AVG</th>\n",
       "      <th>AGG_level_block_Rate_AVG</th>\n",
       "      <th>ERAB_Drop_Ratio_with_UE_Lost_cause_initiated_by_eNB_AVG</th>\n",
       "    </tr>\n",
       "  </thead>\n",
       "  <tbody>\n",
       "    <tr>\n",
       "      <th>0</th>\n",
       "      <td>1</td>\n",
       "      <td>1</td>\n",
       "      <td>11/20/2015 0:03</td>\n",
       "      <td>33378111</td>\n",
       "      <td>0.992407</td>\n",
       "      <td>0.998720</td>\n",
       "      <td>0.331485</td>\n",
       "      <td>0.999198</td>\n",
       "      <td>0.999654</td>\n",
       "      <td>0.992175</td>\n",
       "      <td>...</td>\n",
       "      <td>2.029270</td>\n",
       "      <td>15.12467</td>\n",
       "      <td>0.832560</td>\n",
       "      <td>0.191129</td>\n",
       "      <td>0.213966</td>\n",
       "      <td>0.257052</td>\n",
       "      <td>0.316564</td>\n",
       "      <td>0</td>\n",
       "      <td>0.000244</td>\n",
       "      <td>0.000119</td>\n",
       "    </tr>\n",
       "    <tr>\n",
       "      <th>1</th>\n",
       "      <td>2</td>\n",
       "      <td>1</td>\n",
       "      <td>11/20/2015 0:27</td>\n",
       "      <td>23596112</td>\n",
       "      <td>0.999230</td>\n",
       "      <td>0.993518</td>\n",
       "      <td>0.358130</td>\n",
       "      <td>0.998407</td>\n",
       "      <td>0.998068</td>\n",
       "      <td>0.980128</td>\n",
       "      <td>...</td>\n",
       "      <td>2.941401</td>\n",
       "      <td>14.50509</td>\n",
       "      <td>0.809881</td>\n",
       "      <td>0.202040</td>\n",
       "      <td>0.190227</td>\n",
       "      <td>0.202197</td>\n",
       "      <td>0.325704</td>\n",
       "      <td>0</td>\n",
       "      <td>0.000332</td>\n",
       "      <td>0.000222</td>\n",
       "    </tr>\n",
       "    <tr>\n",
       "      <th>2</th>\n",
       "      <td>3</td>\n",
       "      <td>1</td>\n",
       "      <td>11/20/2015 0:29</td>\n",
       "      <td>10611113</td>\n",
       "      <td>0.984591</td>\n",
       "      <td>0.998783</td>\n",
       "      <td>0.310432</td>\n",
       "      <td>0.999326</td>\n",
       "      <td>0.999253</td>\n",
       "      <td>0.993642</td>\n",
       "      <td>...</td>\n",
       "      <td>1.737991</td>\n",
       "      <td>10.10685</td>\n",
       "      <td>0.826034</td>\n",
       "      <td>0.246141</td>\n",
       "      <td>0.235573</td>\n",
       "      <td>0.274353</td>\n",
       "      <td>0.212420</td>\n",
       "      <td>0</td>\n",
       "      <td>0.000132</td>\n",
       "      <td>0.000107</td>\n",
       "    </tr>\n",
       "    <tr>\n",
       "      <th>3</th>\n",
       "      <td>4</td>\n",
       "      <td>1</td>\n",
       "      <td>11/20/2015 2:11</td>\n",
       "      <td>50982112</td>\n",
       "      <td>0.994961</td>\n",
       "      <td>0.998095</td>\n",
       "      <td>0.591061</td>\n",
       "      <td>0.999203</td>\n",
       "      <td>0.999691</td>\n",
       "      <td>0.988120</td>\n",
       "      <td>...</td>\n",
       "      <td>1.960138</td>\n",
       "      <td>10.62714</td>\n",
       "      <td>0.884707</td>\n",
       "      <td>0.124238</td>\n",
       "      <td>0.169905</td>\n",
       "      <td>0.169546</td>\n",
       "      <td>0.436171</td>\n",
       "      <td>0</td>\n",
       "      <td>0.000075</td>\n",
       "      <td>0.000042</td>\n",
       "    </tr>\n",
       "    <tr>\n",
       "      <th>4</th>\n",
       "      <td>5</td>\n",
       "      <td>1</td>\n",
       "      <td>11/20/2015 2:12</td>\n",
       "      <td>24738113</td>\n",
       "      <td>0.985488</td>\n",
       "      <td>0.998673</td>\n",
       "      <td>0.450843</td>\n",
       "      <td>0.998981</td>\n",
       "      <td>0.999617</td>\n",
       "      <td>0.989435</td>\n",
       "      <td>...</td>\n",
       "      <td>4.088653</td>\n",
       "      <td>19.18508</td>\n",
       "      <td>0.838161</td>\n",
       "      <td>0.221814</td>\n",
       "      <td>0.191663</td>\n",
       "      <td>0.188029</td>\n",
       "      <td>0.299334</td>\n",
       "      <td>0</td>\n",
       "      <td>0.000435</td>\n",
       "      <td>0.000125</td>\n",
       "    </tr>\n",
       "  </tbody>\n",
       "</table>\n",
       "<p>5 rows × 22 columns</p>\n",
       "</div>"
      ],
      "text/plain": [
       "   ID   NumComplains          hour_id      LCID  \\\n",
       "0   1              1  11/20/2015 0:03  33378111   \n",
       "1   2              1  11/20/2015 0:27  23596112   \n",
       "2   3              1  11/20/2015 0:29  10611113   \n",
       "3   4              1  11/20/2015 2:11  50982112   \n",
       "4   5              1  11/20/2015 2:12  24738113   \n",
       "\n",
       "    RACH_Setup_Completion_Success_Rate_AVG  \\\n",
       "0                                 0.992407   \n",
       "1                                 0.999230   \n",
       "2                                 0.984591   \n",
       "3                                 0.994961   \n",
       "4                                 0.985488   \n",
       "\n",
       "    Total_RRC_Connection_Setup_Success_Ratio_AVG  \\\n",
       "0                                       0.998720   \n",
       "1                                       0.993518   \n",
       "2                                       0.998783   \n",
       "3                                       0.998095   \n",
       "4                                       0.998673   \n",
       "\n",
       "    Total_RRC_Connection_Re_establishment_Success_Ratio_AVG  \\\n",
       "0                                           0.331485          \n",
       "1                                           0.358130          \n",
       "2                                           0.310432          \n",
       "3                                           0.591061          \n",
       "4                                           0.450843          \n",
       "\n",
       "    Radio_Bearer_Success_Ratio_AVG   ERAB_SetupSR_AVG  \\\n",
       "0                         0.999198           0.999654   \n",
       "1                         0.998407           0.998068   \n",
       "2                         0.999326           0.999253   \n",
       "3                         0.999203           0.999691   \n",
       "4                         0.998981           0.999617   \n",
       "\n",
       "    HO_Success_Ratio_intra_eNB_AVG  \\\n",
       "0                         0.992175   \n",
       "1                         0.980128   \n",
       "2                         0.993642   \n",
       "3                         0.988120   \n",
       "4                         0.989435   \n",
       "\n",
       "                             ...                             \\\n",
       "0                            ...                              \n",
       "1                            ...                              \n",
       "2                            ...                              \n",
       "3                            ...                              \n",
       "4                            ...                              \n",
       "\n",
       "    Average_Physical_Resource_Block_Usage_UL_AVG  \\\n",
       "0                                       2.029270   \n",
       "1                                       2.941401   \n",
       "2                                       1.737991   \n",
       "3                                       1.960138   \n",
       "4                                       4.088653   \n",
       "\n",
       "    Average_Physical_Resource_Block_Usage_DL_AVG  \\\n",
       "0                                       15.12467   \n",
       "1                                       14.50509   \n",
       "2                                       10.10685   \n",
       "3                                       10.62714   \n",
       "4                                       19.18508   \n",
       "\n",
       "    Complete_RACH_Setup_Success_Rate_AVG   AGG1_blocked_distribution_rate_AVG  \\\n",
       "0                               0.832560                             0.191129   \n",
       "1                               0.809881                             0.202040   \n",
       "2                               0.826034                             0.246141   \n",
       "3                               0.884707                             0.124238   \n",
       "4                               0.838161                             0.221814   \n",
       "\n",
       "    AGG2_blocked_distribution_rate_AVG   AGG4_blocked_distribution_rate_AVG  \\\n",
       "0                             0.213966                             0.257052   \n",
       "1                             0.190227                             0.202197   \n",
       "2                             0.235573                             0.274353   \n",
       "3                             0.169905                             0.169546   \n",
       "4                             0.191663                             0.188029   \n",
       "\n",
       "    AGG8_blocked_distribution_rate_AVG  \\\n",
       "0                             0.316564   \n",
       "1                             0.325704   \n",
       "2                             0.212420   \n",
       "3                             0.436171   \n",
       "4                             0.299334   \n",
       "\n",
       "    ECM_failure_ratio_due_to_Rejection_by_RRM_RAC_AVG  \\\n",
       "0                                                  0    \n",
       "1                                                  0    \n",
       "2                                                  0    \n",
       "3                                                  0    \n",
       "4                                                  0    \n",
       "\n",
       "    AGG_level_block_Rate_AVG  \\\n",
       "0                   0.000244   \n",
       "1                   0.000332   \n",
       "2                   0.000132   \n",
       "3                   0.000075   \n",
       "4                   0.000435   \n",
       "\n",
       "    ERAB_Drop_Ratio_with_UE_Lost_cause_initiated_by_eNB_AVG  \n",
       "0                                           0.000119         \n",
       "1                                           0.000222         \n",
       "2                                           0.000107         \n",
       "3                                           0.000042         \n",
       "4                                           0.000125         \n",
       "\n",
       "[5 rows x 22 columns]"
      ]
     },
     "execution_count": 93,
     "metadata": {},
     "output_type": "execute_result"
    }
   ],
   "source": [
    "data.head()"
   ]
  },
  {
   "cell_type": "code",
   "execution_count": 94,
   "metadata": {},
   "outputs": [
    {
     "name": "stdout",
     "output_type": "stream",
     "text": [
      "<class 'pandas.core.frame.DataFrame'>\n",
      "RangeIndex: 13949 entries, 0 to 13948\n",
      "Data columns (total 22 columns):\n",
      "ID                                                          13949 non-null int64\n",
      " NumComplains                                               13949 non-null int64\n",
      " hour_id                                                    13949 non-null object\n",
      " LCID                                                       13949 non-null object\n",
      " RACH_Setup_Completion_Success_Rate_AVG                     13948 non-null float64\n",
      " Total_RRC_Connection_Setup_Success_Ratio_AVG               13947 non-null float64\n",
      " Total_RRC_Connection_Re_establishment_Success_Ratio_AVG    13538 non-null float64\n",
      " Radio_Bearer_Success_Ratio_AVG                             13947 non-null float64\n",
      " ERAB_SetupSR_AVG                                           13947 non-null float64\n",
      " HO_Success_Ratio_intra_eNB_AVG                             13799 non-null float64\n",
      " Average_CQI_AVG                                            13948 non-null float64\n",
      " Radio_Bearer_Drop_Ratio_AVG                                13569 non-null float64\n",
      " Average_Physical_Resource_Block_Usage_UL_AVG               13869 non-null float64\n",
      " Average_Physical_Resource_Block_Usage_DL_AVG               13949 non-null float64\n",
      " Complete_RACH_Setup_Success_Rate_AVG                       13947 non-null float64\n",
      " AGG1_blocked_distribution_rate_AVG                         13949 non-null float64\n",
      " AGG2_blocked_distribution_rate_AVG                         13949 non-null float64\n",
      " AGG4_blocked_distribution_rate_AVG                         13949 non-null float64\n",
      " AGG8_blocked_distribution_rate_AVG                         13949 non-null float64\n",
      " ECM_failure_ratio_due_to_Rejection_by_RRM_RAC_AVG          13949 non-null int64\n",
      " AGG_level_block_Rate_AVG                                   13949 non-null float64\n",
      " ERAB_Drop_Ratio_with_UE_Lost_cause_initiated_by_eNB_AVG    13949 non-null float64\n",
      "dtypes: float64(17), int64(3), object(2)\n",
      "memory usage: 2.3+ MB\n"
     ]
    }
   ],
   "source": [
    "data.info()"
   ]
  },
  {
   "cell_type": "code",
   "execution_count": 95,
   "metadata": {},
   "outputs": [
    {
     "data": {
      "text/plain": [
       "ID                                                            0\n",
       " NumComplains                                                 0\n",
       " hour_id                                                      0\n",
       " LCID                                                         0\n",
       " RACH_Setup_Completion_Success_Rate_AVG                       1\n",
       " Total_RRC_Connection_Setup_Success_Ratio_AVG                 2\n",
       " Total_RRC_Connection_Re_establishment_Success_Ratio_AVG    411\n",
       " Radio_Bearer_Success_Ratio_AVG                               2\n",
       " ERAB_SetupSR_AVG                                             2\n",
       " HO_Success_Ratio_intra_eNB_AVG                             150\n",
       " Average_CQI_AVG                                              1\n",
       " Radio_Bearer_Drop_Ratio_AVG                                380\n",
       " Average_Physical_Resource_Block_Usage_UL_AVG                80\n",
       " Average_Physical_Resource_Block_Usage_DL_AVG                 0\n",
       " Complete_RACH_Setup_Success_Rate_AVG                         2\n",
       " AGG1_blocked_distribution_rate_AVG                           0\n",
       " AGG2_blocked_distribution_rate_AVG                           0\n",
       " AGG4_blocked_distribution_rate_AVG                           0\n",
       " AGG8_blocked_distribution_rate_AVG                           0\n",
       " ECM_failure_ratio_due_to_Rejection_by_RRM_RAC_AVG            0\n",
       " AGG_level_block_Rate_AVG                                     0\n",
       " ERAB_Drop_Ratio_with_UE_Lost_cause_initiated_by_eNB_AVG      0\n",
       "dtype: int64"
      ]
     },
     "execution_count": 95,
     "metadata": {},
     "output_type": "execute_result"
    }
   ],
   "source": [
    "data.isnull().sum()"
   ]
  },
  {
   "cell_type": "code",
   "execution_count": 96,
   "metadata": {},
   "outputs": [
    {
     "data": {
      "text/plain": [
       " Total_RRC_Connection_Re_establishment_Success_Ratio_AVG    411\n",
       " Radio_Bearer_Drop_Ratio_AVG                                380\n",
       " HO_Success_Ratio_intra_eNB_AVG                             150\n",
       " Average_Physical_Resource_Block_Usage_UL_AVG                80\n",
       " ERAB_SetupSR_AVG                                             2\n",
       " Total_RRC_Connection_Setup_Success_Ratio_AVG                 2\n",
       " Complete_RACH_Setup_Success_Rate_AVG                         2\n",
       " Radio_Bearer_Success_Ratio_AVG                               2\n",
       " Average_CQI_AVG                                              1\n",
       " RACH_Setup_Completion_Success_Rate_AVG                       1\n",
       " NumComplains                                                 0\n",
       " hour_id                                                      0\n",
       " LCID                                                         0\n",
       " ERAB_Drop_Ratio_with_UE_Lost_cause_initiated_by_eNB_AVG      0\n",
       " AGG_level_block_Rate_AVG                                     0\n",
       " Average_Physical_Resource_Block_Usage_DL_AVG                 0\n",
       " AGG1_blocked_distribution_rate_AVG                           0\n",
       " AGG2_blocked_distribution_rate_AVG                           0\n",
       " AGG4_blocked_distribution_rate_AVG                           0\n",
       " AGG8_blocked_distribution_rate_AVG                           0\n",
       " ECM_failure_ratio_due_to_Rejection_by_RRM_RAC_AVG            0\n",
       "ID                                                            0\n",
       "dtype: int64"
      ]
     },
     "execution_count": 96,
     "metadata": {},
     "output_type": "execute_result"
    }
   ],
   "source": [
    "data.isnull().sum().sort_values(ascending=False)"
   ]
  },
  {
   "cell_type": "raw",
   "metadata": {},
   "source": [
    "To filter the column names with the top 4 of missing values"
   ]
  },
  {
   "cell_type": "code",
   "execution_count": 97,
   "metadata": {},
   "outputs": [
    {
     "data": {
      "text/plain": [
       "[' Total_RRC_Connection_Re_establishment_Success_Ratio_AVG',\n",
       " ' Radio_Bearer_Drop_Ratio_AVG',\n",
       " ' HO_Success_Ratio_intra_eNB_AVG',\n",
       " ' Average_Physical_Resource_Block_Usage_UL_AVG']"
      ]
     },
     "execution_count": 97,
     "metadata": {},
     "output_type": "execute_result"
    }
   ],
   "source": [
    "L=data.isnull().sum().sort_values(ascending=False).index[:4].tolist()\n",
    "L"
   ]
  },
  {
   "cell_type": "code",
   "execution_count": 98,
   "metadata": {},
   "outputs": [
    {
     "data": {
      "text/plain": [
       "[' Total_RRC_Connection_Re_establishment_Success_Ratio_AVG',\n",
       " ' Radio_Bearer_Drop_Ratio_AVG',\n",
       " ' HO_Success_Ratio_intra_eNB_AVG',\n",
       " ' Average_Physical_Resource_Block_Usage_UL_AVG']"
      ]
     },
     "execution_count": 98,
     "metadata": {},
     "output_type": "execute_result"
    }
   ],
   "source": [
    "L=list(data.isnull().sum().sort_values(ascending=False).index[:4])\n",
    "L"
   ]
  },
  {
   "cell_type": "markdown",
   "metadata": {},
   "source": [
    "# Data aggregation"
   ]
  },
  {
   "cell_type": "code",
   "execution_count": 112,
   "metadata": {},
   "outputs": [
    {
     "name": "stdout",
     "output_type": "stream",
     "text": [
      "  key  data\n",
      "0   A     0\n",
      "1   B     1\n",
      "2   C     2\n",
      "3   A     3\n",
      "4   B     4\n",
      "5   C     5\n"
     ]
    }
   ],
   "source": [
    "import pandas as pd\n",
    "import numpy as np\n",
    "df = pd.DataFrame({'key': ['A', 'B', 'C', 'A', 'B', 'C'],\n",
    "'data': range(6)}, columns=['key', 'data'])\n",
    "print(df)"
   ]
  },
  {
   "cell_type": "code",
   "execution_count": 114,
   "metadata": {},
   "outputs": [
    {
     "data": {
      "text/html": [
       "<div>\n",
       "<style scoped>\n",
       "    .dataframe tbody tr th:only-of-type {\n",
       "        vertical-align: middle;\n",
       "    }\n",
       "\n",
       "    .dataframe tbody tr th {\n",
       "        vertical-align: top;\n",
       "    }\n",
       "\n",
       "    .dataframe thead th {\n",
       "        text-align: right;\n",
       "    }\n",
       "</style>\n",
       "<table border=\"1\" class=\"dataframe\">\n",
       "  <thead>\n",
       "    <tr style=\"text-align: right;\">\n",
       "      <th></th>\n",
       "      <th>data</th>\n",
       "    </tr>\n",
       "    <tr>\n",
       "      <th>key</th>\n",
       "      <th></th>\n",
       "    </tr>\n",
       "  </thead>\n",
       "  <tbody>\n",
       "    <tr>\n",
       "      <th>A</th>\n",
       "      <td>3</td>\n",
       "    </tr>\n",
       "    <tr>\n",
       "      <th>B</th>\n",
       "      <td>5</td>\n",
       "    </tr>\n",
       "    <tr>\n",
       "      <th>C</th>\n",
       "      <td>7</td>\n",
       "    </tr>\n",
       "  </tbody>\n",
       "</table>\n",
       "</div>"
      ],
      "text/plain": [
       "     data\n",
       "key      \n",
       "A       3\n",
       "B       5\n",
       "C       7"
      ]
     },
     "execution_count": 114,
     "metadata": {},
     "output_type": "execute_result"
    }
   ],
   "source": [
    "\n",
    "df.groupby(\"key\").sum()\n"
   ]
  },
  {
   "cell_type": "code",
   "execution_count": 101,
   "metadata": {},
   "outputs": [],
   "source": [
    "import numpy as np"
   ]
  },
  {
   "cell_type": "code",
   "execution_count": 115,
   "metadata": {},
   "outputs": [
    {
     "name": "stdout",
     "output_type": "stream",
     "text": [
      "  key  data1  data2\n",
      "0   A      0      5\n",
      "1   B      1      0\n",
      "2   C      2      3\n",
      "3   A      3      3\n",
      "4   B      4      7\n",
      "5   C      5      9\n"
     ]
    }
   ],
   "source": [
    "rng = np.random.RandomState(0)\n",
    "df = pd.DataFrame({'key': ['A', 'B', 'C', 'A', 'B', \"C\"], \\\n",
    "                   \"data1\": range(6), \"data2\": rng.randint(0, 10, 6)},columns = [\"key\", \"data1\", \"data2\"])\n",
    "print(df)\n"
   ]
  },
  {
   "cell_type": "code",
   "execution_count": 103,
   "metadata": {},
   "outputs": [
    {
     "data": {
      "text/html": [
       "<div>\n",
       "<style scoped>\n",
       "    .dataframe tbody tr th:only-of-type {\n",
       "        vertical-align: middle;\n",
       "    }\n",
       "\n",
       "    .dataframe tbody tr th {\n",
       "        vertical-align: top;\n",
       "    }\n",
       "\n",
       "    .dataframe thead tr th {\n",
       "        text-align: left;\n",
       "    }\n",
       "\n",
       "    .dataframe thead tr:last-of-type th {\n",
       "        text-align: right;\n",
       "    }\n",
       "</style>\n",
       "<table border=\"1\" class=\"dataframe\">\n",
       "  <thead>\n",
       "    <tr>\n",
       "      <th></th>\n",
       "      <th colspan=\"3\" halign=\"left\">data1</th>\n",
       "      <th colspan=\"3\" halign=\"left\">data2</th>\n",
       "    </tr>\n",
       "    <tr>\n",
       "      <th></th>\n",
       "      <th>min</th>\n",
       "      <th>median</th>\n",
       "      <th>max</th>\n",
       "      <th>min</th>\n",
       "      <th>median</th>\n",
       "      <th>max</th>\n",
       "    </tr>\n",
       "    <tr>\n",
       "      <th>key</th>\n",
       "      <th></th>\n",
       "      <th></th>\n",
       "      <th></th>\n",
       "      <th></th>\n",
       "      <th></th>\n",
       "      <th></th>\n",
       "    </tr>\n",
       "  </thead>\n",
       "  <tbody>\n",
       "    <tr>\n",
       "      <th>A</th>\n",
       "      <td>0</td>\n",
       "      <td>1.5</td>\n",
       "      <td>3</td>\n",
       "      <td>3</td>\n",
       "      <td>4.0</td>\n",
       "      <td>5</td>\n",
       "    </tr>\n",
       "    <tr>\n",
       "      <th>B</th>\n",
       "      <td>1</td>\n",
       "      <td>2.5</td>\n",
       "      <td>4</td>\n",
       "      <td>0</td>\n",
       "      <td>3.5</td>\n",
       "      <td>7</td>\n",
       "    </tr>\n",
       "    <tr>\n",
       "      <th>C</th>\n",
       "      <td>2</td>\n",
       "      <td>3.5</td>\n",
       "      <td>5</td>\n",
       "      <td>3</td>\n",
       "      <td>6.0</td>\n",
       "      <td>9</td>\n",
       "    </tr>\n",
       "  </tbody>\n",
       "</table>\n",
       "</div>"
      ],
      "text/plain": [
       "    data1            data2           \n",
       "      min median max   min median max\n",
       "key                                  \n",
       "A       0    1.5   3     3    4.0   5\n",
       "B       1    2.5   4     0    3.5   7\n",
       "C       2    3.5   5     3    6.0   9"
      ]
     },
     "execution_count": 103,
     "metadata": {},
     "output_type": "execute_result"
    }
   ],
   "source": [
    "df.groupby(\"key\").aggregate([min,np.median,max])"
   ]
  },
  {
   "cell_type": "code",
   "execution_count": 104,
   "metadata": {},
   "outputs": [
    {
     "data": {
      "text/html": [
       "<div>\n",
       "<style scoped>\n",
       "    .dataframe tbody tr th:only-of-type {\n",
       "        vertical-align: middle;\n",
       "    }\n",
       "\n",
       "    .dataframe tbody tr th {\n",
       "        vertical-align: top;\n",
       "    }\n",
       "\n",
       "    .dataframe thead th {\n",
       "        text-align: right;\n",
       "    }\n",
       "</style>\n",
       "<table border=\"1\" class=\"dataframe\">\n",
       "  <thead>\n",
       "    <tr style=\"text-align: right;\">\n",
       "      <th></th>\n",
       "      <th>data1</th>\n",
       "      <th>data2</th>\n",
       "    </tr>\n",
       "    <tr>\n",
       "      <th>key</th>\n",
       "      <th></th>\n",
       "      <th></th>\n",
       "    </tr>\n",
       "  </thead>\n",
       "  <tbody>\n",
       "    <tr>\n",
       "      <th>A</th>\n",
       "      <td>1.5</td>\n",
       "      <td>5</td>\n",
       "    </tr>\n",
       "    <tr>\n",
       "      <th>B</th>\n",
       "      <td>2.5</td>\n",
       "      <td>7</td>\n",
       "    </tr>\n",
       "    <tr>\n",
       "      <th>C</th>\n",
       "      <td>3.5</td>\n",
       "      <td>9</td>\n",
       "    </tr>\n",
       "  </tbody>\n",
       "</table>\n",
       "</div>"
      ],
      "text/plain": [
       "     data1  data2\n",
       "key              \n",
       "A      1.5      5\n",
       "B      2.5      7\n",
       "C      3.5      9"
      ]
     },
     "execution_count": 104,
     "metadata": {},
     "output_type": "execute_result"
    }
   ],
   "source": [
    "df.groupby(\"key\").aggregate({\"data1\":np.median,\"data2\":max})"
   ]
  },
  {
   "cell_type": "code",
   "execution_count": 105,
   "metadata": {},
   "outputs": [
    {
     "data": {
      "text/html": [
       "<div>\n",
       "<style scoped>\n",
       "    .dataframe tbody tr th:only-of-type {\n",
       "        vertical-align: middle;\n",
       "    }\n",
       "\n",
       "    .dataframe tbody tr th {\n",
       "        vertical-align: top;\n",
       "    }\n",
       "\n",
       "    .dataframe thead th {\n",
       "        text-align: right;\n",
       "    }\n",
       "</style>\n",
       "<table border=\"1\" class=\"dataframe\">\n",
       "  <thead>\n",
       "    <tr style=\"text-align: right;\">\n",
       "      <th></th>\n",
       "      <th>min</th>\n",
       "      <th>median</th>\n",
       "      <th>max</th>\n",
       "    </tr>\n",
       "    <tr>\n",
       "      <th>key</th>\n",
       "      <th></th>\n",
       "      <th></th>\n",
       "      <th></th>\n",
       "    </tr>\n",
       "  </thead>\n",
       "  <tbody>\n",
       "    <tr>\n",
       "      <th>A</th>\n",
       "      <td>0</td>\n",
       "      <td>1.5</td>\n",
       "      <td>3</td>\n",
       "    </tr>\n",
       "    <tr>\n",
       "      <th>B</th>\n",
       "      <td>1</td>\n",
       "      <td>2.5</td>\n",
       "      <td>4</td>\n",
       "    </tr>\n",
       "    <tr>\n",
       "      <th>C</th>\n",
       "      <td>2</td>\n",
       "      <td>3.5</td>\n",
       "      <td>5</td>\n",
       "    </tr>\n",
       "  </tbody>\n",
       "</table>\n",
       "</div>"
      ],
      "text/plain": [
       "     min  median  max\n",
       "key                  \n",
       "A      0     1.5    3\n",
       "B      1     2.5    4\n",
       "C      2     3.5    5"
      ]
     },
     "execution_count": 105,
     "metadata": {},
     "output_type": "execute_result"
    }
   ],
   "source": [
    "df.groupby(\"key\")[\"data1\"].aggregate([min,np.median,max])"
   ]
  },
  {
   "cell_type": "markdown",
   "metadata": {},
   "source": [
    "## Basic data visualization with pandas"
   ]
  },
  {
   "cell_type": "code",
   "execution_count": 106,
   "metadata": {},
   "outputs": [],
   "source": [
    "import pandas as pd\n",
    "import numpy as np\n",
    "import matplotlib.pyplot as plt\n",
    "\n",
    "%matplotlib inline"
   ]
  },
  {
   "cell_type": "code",
   "execution_count": 107,
   "metadata": {},
   "outputs": [
    {
     "data": {
      "text/html": [
       "<div>\n",
       "<style scoped>\n",
       "    .dataframe tbody tr th:only-of-type {\n",
       "        vertical-align: middle;\n",
       "    }\n",
       "\n",
       "    .dataframe tbody tr th {\n",
       "        vertical-align: top;\n",
       "    }\n",
       "\n",
       "    .dataframe thead th {\n",
       "        text-align: right;\n",
       "    }\n",
       "</style>\n",
       "<table border=\"1\" class=\"dataframe\">\n",
       "  <thead>\n",
       "    <tr style=\"text-align: right;\">\n",
       "      <th></th>\n",
       "      <th>Apples</th>\n",
       "      <th>Oranges</th>\n",
       "    </tr>\n",
       "  </thead>\n",
       "  <tbody>\n",
       "    <tr>\n",
       "      <th>Atiya</th>\n",
       "      <td>20</td>\n",
       "      <td>35</td>\n",
       "    </tr>\n",
       "    <tr>\n",
       "      <th>Abbas</th>\n",
       "      <td>10</td>\n",
       "      <td>40</td>\n",
       "    </tr>\n",
       "    <tr>\n",
       "      <th>Cornelia</th>\n",
       "      <td>40</td>\n",
       "      <td>25</td>\n",
       "    </tr>\n",
       "    <tr>\n",
       "      <th>Stephanie</th>\n",
       "      <td>20</td>\n",
       "      <td>19</td>\n",
       "    </tr>\n",
       "    <tr>\n",
       "      <th>Monte</th>\n",
       "      <td>50</td>\n",
       "      <td>33</td>\n",
       "    </tr>\n",
       "  </tbody>\n",
       "</table>\n",
       "</div>"
      ],
      "text/plain": [
       "           Apples  Oranges\n",
       "Atiya          20       35\n",
       "Abbas          10       40\n",
       "Cornelia       40       25\n",
       "Stephanie      20       19\n",
       "Monte          50       33"
      ]
     },
     "execution_count": 107,
     "metadata": {},
     "output_type": "execute_result"
    }
   ],
   "source": [
    "df = pd.DataFrame(index=['Atiya', 'Abbas', 'Cornelia', 'Stephanie', 'Monte'], \n",
    "                  data={'Apples':[20, 10, 40, 20, 50],\n",
    "                        'Oranges':[35, 40, 25, 19, 33]})\n",
    "df"
   ]
  },
  {
   "cell_type": "code",
   "execution_count": 108,
   "metadata": {},
   "outputs": [
    {
     "data": {
      "text/plain": [
       "<matplotlib.axes._subplots.AxesSubplot at 0x1a9469c1e10>"
      ]
     },
     "execution_count": 108,
     "metadata": {},
     "output_type": "execute_result"
    },
    {
     "data": {
      "image/png": "[encoded data removed]",
      "text/plain": [
       "<Figure size 1152x288 with 1 Axes>"
      ]
     },
     "metadata": {
      "needs_background": "light"
     },
     "output_type": "display_data"
    }
   ],
   "source": [
    "df.plot(kind='bar', figsize=(16,4))"
   ]
  },
  {
   "cell_type": "code",
   "execution_count": 109,
   "metadata": {},
   "outputs": [
    {
     "data": {
      "text/plain": [
       "<matplotlib.axes._subplots.AxesSubplot at 0x1a94619f208>"
      ]
     },
     "execution_count": 109,
     "metadata": {},
     "output_type": "execute_result"
    },
    {
     "data": {
      "image/png": "[encoded data removed]",
      "text/plain": [
       "<Figure size 1152x288 with 1 Axes>"
      ]
     },
     "metadata": {
      "needs_background": "light"
     },
     "output_type": "display_data"
    }
   ],
   "source": [
    "df.plot(kind='kde', figsize=(16,4))"
   ]
  },
  {
   "cell_type": "code",
   "execution_count": 110,
   "metadata": {},
   "outputs": [
    {
     "data": {
      "text/plain": [
       "<matplotlib.axes._subplots.AxesSubplot at 0x1a947594c88>"
      ]
     },
     "execution_count": 110,
     "metadata": {},
     "output_type": "execute_result"
    },
    {
     "data": {
      "image/png": "[encoded data removed]",
      "text/plain": [
       "<Figure size 1152x288 with 3 Axes>"
      ]
     },
     "metadata": {
      "needs_background": "light"
     },
     "output_type": "display_data"
    }
   ],
   "source": [
    "fig, (ax1, ax2, ax3) = plt.subplots(1, 3, figsize=(16,4))\n",
    "fig.suptitle('Two Variable Plots', size=20, y=1.02)\n",
    "df.plot(kind='line', ax=ax1, title='Line plot')\n",
    "df.plot(x='Apples', y='Oranges', kind='scatter', \n",
    "        ax=ax2, title='Scatterplot')\n",
    "df.plot(kind='bar', ax=ax3, title='Bar plot')"
   ]
  },
  {
   "cell_type": "code",
   "execution_count": 111,
   "metadata": {},
   "outputs": [
    {
     "data": {
      "text/plain": [
       "<matplotlib.axes._subplots.AxesSubplot at 0x1a948718860>"
      ]
     },
     "execution_count": 111,
     "metadata": {},
     "output_type": "execute_result"
    },
    {
     "data": {
      "image/png": "[encoded data removed]",
      "text/plain": [
       "<Figure size 1152x288 with 3 Axes>"
      ]
     },
     "metadata": {
      "needs_background": "light"
     },
     "output_type": "display_data"
    }
   ],
   "source": [
    "fig, (ax1, ax2, ax3) = plt.subplots(1, 3, figsize=(16,4))\n",
    "fig.suptitle('One Variable Plots', size=20, y=1.02)\n",
    "df.plot(kind='kde', ax=ax1, title='KDE plot')\n",
    "df.plot(kind='box', ax=ax2, title='Boxplot')\n",
    "df.plot(kind='hist', ax=ax3, title='Histogram')"
   ]
  },
  {
   "cell_type": "code",
   "execution_count": null,
   "metadata": {},
   "outputs": [],
   "source": []
  }
 ],
 "metadata": {
  "kernelspec": {
   "display_name": "Python 3",
   "language": "python",
   "name": "python3"
  },
  "language_info": {
   "codemirror_mode": {
    "name": "ipython",
    "version": 3
   },
   "file_extension": ".py",
   "mimetype": "text/x-python",
   "name": "python",
   "nbconvert_exporter": "python",
   "pygments_lexer": "ipython3",
   "version": "3.7.6"
  }
 },
 "nbformat": 4,
 "nbformat_minor": 2
}
