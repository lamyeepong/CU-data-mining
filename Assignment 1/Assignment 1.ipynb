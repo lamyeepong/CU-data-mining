{
 "cells": [
  {
   "cell_type": "code",
   "execution_count": 7,
   "metadata": {},
   "outputs": [],
   "source": [
    "import pandas as pd\n",
    "from datetime import date\n",
    "import yfinance as yf"
   ]
  },
  {
   "cell_type": "code",
   "execution_count": 2,
   "metadata": {},
   "outputs": [
    {
     "data": {
      "text/html": [
       "<div>\n",
       "<style scoped>\n",
       "    .dataframe tbody tr th:only-of-type {\n",
       "        vertical-align: middle;\n",
       "    }\n",
       "\n",
       "    .dataframe tbody tr th {\n",
       "        vertical-align: top;\n",
       "    }\n",
       "\n",
       "    .dataframe thead th {\n",
       "        text-align: right;\n",
       "    }\n",
       "</style>\n",
       "<table border=\"1\" class=\"dataframe\">\n",
       "  <thead>\n",
       "    <tr style=\"text-align: right;\">\n",
       "      <th></th>\n",
       "      <th>Stock code</th>\n",
       "      <th>Name</th>\n",
       "      <th>English Name</th>\n",
       "      <th>Sector</th>\n",
       "      <th>52 week peak/bottom</th>\n",
       "      <th>sharp increase in volume</th>\n",
       "      <th>Volatity (SD)</th>\n",
       "      <th>Upper bound</th>\n",
       "      <th>Lower bound</th>\n",
       "      <th>Current price</th>\n",
       "      <th>Sharp increase</th>\n",
       "      <th>Sharp decrease</th>\n",
       "      <th>EMA cross over up</th>\n",
       "      <th>EMA cross over down</th>\n",
       "      <th>MACD cross over up</th>\n",
       "      <th>MACD cross over down</th>\n",
       "      <th>Reach RSI max</th>\n",
       "      <th>Reach RSI min</th>\n",
       "    </tr>\n",
       "  </thead>\n",
       "  <tbody>\n",
       "    <tr>\n",
       "      <th>0</th>\n",
       "      <td>0001.HK</td>\n",
       "      <td>長和</td>\n",
       "      <td>CK Hutchison Holdings</td>\n",
       "      <td>工商</td>\n",
       "      <td>NaN</td>\n",
       "      <td>NaN</td>\n",
       "      <td>NaN</td>\n",
       "      <td>NaN</td>\n",
       "      <td>NaN</td>\n",
       "      <td>NaN</td>\n",
       "      <td>NaN</td>\n",
       "      <td>NaN</td>\n",
       "      <td>NaN</td>\n",
       "      <td>NaN</td>\n",
       "      <td>NaN</td>\n",
       "      <td>NaN</td>\n",
       "      <td>NaN</td>\n",
       "      <td>NaN</td>\n",
       "    </tr>\n",
       "    <tr>\n",
       "      <th>1</th>\n",
       "      <td>0002.HK</td>\n",
       "      <td>中電控股</td>\n",
       "      <td>CLP Holdings</td>\n",
       "      <td>公用</td>\n",
       "      <td>NaN</td>\n",
       "      <td>NaN</td>\n",
       "      <td>NaN</td>\n",
       "      <td>NaN</td>\n",
       "      <td>NaN</td>\n",
       "      <td>NaN</td>\n",
       "      <td>NaN</td>\n",
       "      <td>NaN</td>\n",
       "      <td>NaN</td>\n",
       "      <td>NaN</td>\n",
       "      <td>NaN</td>\n",
       "      <td>NaN</td>\n",
       "      <td>NaN</td>\n",
       "      <td>NaN</td>\n",
       "    </tr>\n",
       "    <tr>\n",
       "      <th>2</th>\n",
       "      <td>0003.HK</td>\n",
       "      <td>香港中華煤氣</td>\n",
       "      <td>Hong Kong and China Gas</td>\n",
       "      <td>公用</td>\n",
       "      <td>NaN</td>\n",
       "      <td>NaN</td>\n",
       "      <td>NaN</td>\n",
       "      <td>NaN</td>\n",
       "      <td>NaN</td>\n",
       "      <td>NaN</td>\n",
       "      <td>NaN</td>\n",
       "      <td>NaN</td>\n",
       "      <td>NaN</td>\n",
       "      <td>NaN</td>\n",
       "      <td>NaN</td>\n",
       "      <td>NaN</td>\n",
       "      <td>NaN</td>\n",
       "      <td>NaN</td>\n",
       "    </tr>\n",
       "    <tr>\n",
       "      <th>3</th>\n",
       "      <td>0005.HK</td>\n",
       "      <td>匯豐控股</td>\n",
       "      <td>HSBC Holdings plc</td>\n",
       "      <td>銀行</td>\n",
       "      <td>NaN</td>\n",
       "      <td>NaN</td>\n",
       "      <td>NaN</td>\n",
       "      <td>NaN</td>\n",
       "      <td>NaN</td>\n",
       "      <td>NaN</td>\n",
       "      <td>NaN</td>\n",
       "      <td>NaN</td>\n",
       "      <td>NaN</td>\n",
       "      <td>NaN</td>\n",
       "      <td>NaN</td>\n",
       "      <td>NaN</td>\n",
       "      <td>NaN</td>\n",
       "      <td>NaN</td>\n",
       "    </tr>\n",
       "    <tr>\n",
       "      <th>4</th>\n",
       "      <td>0006.HK</td>\n",
       "      <td>電能實業</td>\n",
       "      <td>Power Assets Holdings</td>\n",
       "      <td>公用</td>\n",
       "      <td>NaN</td>\n",
       "      <td>NaN</td>\n",
       "      <td>NaN</td>\n",
       "      <td>NaN</td>\n",
       "      <td>NaN</td>\n",
       "      <td>NaN</td>\n",
       "      <td>NaN</td>\n",
       "      <td>NaN</td>\n",
       "      <td>NaN</td>\n",
       "      <td>NaN</td>\n",
       "      <td>NaN</td>\n",
       "      <td>NaN</td>\n",
       "      <td>NaN</td>\n",
       "      <td>NaN</td>\n",
       "    </tr>\n",
       "  </tbody>\n",
       "</table>\n",
       "</div>"
      ],
      "text/plain": [
       "  Stock code    Name              English Name Sector  52 week peak/bottom  \\\n",
       "0    0001.HK      長和    CK Hutchison Holdings      工商                  NaN   \n",
       "1    0002.HK    中電控股             CLP Holdings      公用                  NaN   \n",
       "2    0003.HK  香港中華煤氣  Hong Kong and China Gas      公用                  NaN   \n",
       "3    0005.HK    匯豐控股         HSBC Holdings plc     銀行                  NaN   \n",
       "4    0006.HK    電能實業    Power Assets Holdings      公用                  NaN   \n",
       "\n",
       "   sharp increase in volume  Volatity (SD)  Upper bound  Lower bound  \\\n",
       "0                       NaN            NaN          NaN          NaN   \n",
       "1                       NaN            NaN          NaN          NaN   \n",
       "2                       NaN            NaN          NaN          NaN   \n",
       "3                       NaN            NaN          NaN          NaN   \n",
       "4                       NaN            NaN          NaN          NaN   \n",
       "\n",
       "   Current price  Sharp increase  Sharp decrease  EMA cross over up  \\\n",
       "0            NaN             NaN             NaN                NaN   \n",
       "1            NaN             NaN             NaN                NaN   \n",
       "2            NaN             NaN             NaN                NaN   \n",
       "3            NaN             NaN             NaN                NaN   \n",
       "4            NaN             NaN             NaN                NaN   \n",
       "\n",
       "   EMA cross over down  MACD cross over up  MACD cross over down  \\\n",
       "0                  NaN                 NaN                   NaN   \n",
       "1                  NaN                 NaN                   NaN   \n",
       "2                  NaN                 NaN                   NaN   \n",
       "3                  NaN                 NaN                   NaN   \n",
       "4                  NaN                 NaN                   NaN   \n",
       "\n",
       "   Reach RSI max  Reach RSI min  \n",
       "0            NaN            NaN  \n",
       "1            NaN            NaN  \n",
       "2            NaN            NaN  \n",
       "3            NaN            NaN  \n",
       "4            NaN            NaN  "
      ]
     },
     "execution_count": 2,
     "metadata": {},
     "output_type": "execute_result"
    }
   ],
   "source": [
    "df = pd.read_excel(\"Stock_monitoring_list1.xlsx\")\n",
    "df.head()"
   ]
  },
  {
   "cell_type": "code",
   "execution_count": 5,
   "metadata": {},
   "outputs": [
    {
     "data": {
      "text/plain": [
       "(50, 18)"
      ]
     },
     "execution_count": 5,
     "metadata": {},
     "output_type": "execute_result"
    }
   ],
   "source": [
    "df.shape"
   ]
  },
  {
   "cell_type": "code",
   "execution_count": 4,
   "metadata": {},
   "outputs": [
    {
     "data": {
      "text/plain": [
       "50"
      ]
     },
     "execution_count": 4,
     "metadata": {},
     "output_type": "execute_result"
    }
   ],
   "source": [
    "len(list(df[\"Stock code\"]))"
   ]
  },
  {
   "cell_type": "code",
   "execution_count": 19,
   "metadata": {},
   "outputs": [],
   "source": [
    "def read_stock_xlsx():\n",
    "    df = pd.read_excel(\"Stock_monitoring_list1.xlsx\")\n",
    "    return list(df[\"Stock code\"])"
   ]
  },
  {
   "cell_type": "code",
   "execution_count": 9,
   "metadata": {},
   "outputs": [
    {
     "name": "stdout",
     "output_type": "stream",
     "text": [
      "2020-12-15\n"
     ]
    }
   ],
   "source": [
    "today = date.today()\n",
    "d1 = today.strftime(\"%Y-%m-%d\")\n",
    "print(d1)"
   ]
  },
  {
   "cell_type": "code",
   "execution_count": 10,
   "metadata": {},
   "outputs": [
    {
     "name": "stdout",
     "output_type": "stream",
     "text": [
      "[*********************100%***********************]  1 of 1 completed\n"
     ]
    }
   ],
   "source": [
    "df1=yf.download(list(df[\"Stock code\"])[0],\"2019-01-01\",d1)"
   ]
  },
  {
   "cell_type": "code",
   "execution_count": 11,
   "metadata": {
    "scrolled": true
   },
   "outputs": [
    {
     "data": {
      "text/html": [
       "<div>\n",
       "<style scoped>\n",
       "    .dataframe tbody tr th:only-of-type {\n",
       "        vertical-align: middle;\n",
       "    }\n",
       "\n",
       "    .dataframe tbody tr th {\n",
       "        vertical-align: top;\n",
       "    }\n",
       "\n",
       "    .dataframe thead th {\n",
       "        text-align: right;\n",
       "    }\n",
       "</style>\n",
       "<table border=\"1\" class=\"dataframe\">\n",
       "  <thead>\n",
       "    <tr style=\"text-align: right;\">\n",
       "      <th></th>\n",
       "      <th>Open</th>\n",
       "      <th>High</th>\n",
       "      <th>Low</th>\n",
       "      <th>Close</th>\n",
       "      <th>Adj Close</th>\n",
       "      <th>Volume</th>\n",
       "    </tr>\n",
       "    <tr>\n",
       "      <th>Date</th>\n",
       "      <th></th>\n",
       "      <th></th>\n",
       "      <th></th>\n",
       "      <th></th>\n",
       "      <th></th>\n",
       "      <th></th>\n",
       "    </tr>\n",
       "  </thead>\n",
       "  <tbody>\n",
       "    <tr>\n",
       "      <th>2019-01-02</th>\n",
       "      <td>75.250000</td>\n",
       "      <td>75.449997</td>\n",
       "      <td>74.099998</td>\n",
       "      <td>74.400002</td>\n",
       "      <td>67.534744</td>\n",
       "      <td>5818879</td>\n",
       "    </tr>\n",
       "    <tr>\n",
       "      <th>2019-01-03</th>\n",
       "      <td>74.000000</td>\n",
       "      <td>74.449997</td>\n",
       "      <td>73.150002</td>\n",
       "      <td>73.349998</td>\n",
       "      <td>66.581635</td>\n",
       "      <td>6464132</td>\n",
       "    </tr>\n",
       "    <tr>\n",
       "      <th>2019-01-04</th>\n",
       "      <td>72.800003</td>\n",
       "      <td>75.250000</td>\n",
       "      <td>72.800003</td>\n",
       "      <td>75.250000</td>\n",
       "      <td>68.306305</td>\n",
       "      <td>6218655</td>\n",
       "    </tr>\n",
       "    <tr>\n",
       "      <th>2019-01-07</th>\n",
       "      <td>76.800003</td>\n",
       "      <td>76.949997</td>\n",
       "      <td>75.400002</td>\n",
       "      <td>75.800003</td>\n",
       "      <td>68.805557</td>\n",
       "      <td>4371572</td>\n",
       "    </tr>\n",
       "    <tr>\n",
       "      <th>2019-01-08</th>\n",
       "      <td>76.500000</td>\n",
       "      <td>77.800003</td>\n",
       "      <td>75.949997</td>\n",
       "      <td>77.349998</td>\n",
       "      <td>70.212524</td>\n",
       "      <td>7733797</td>\n",
       "    </tr>\n",
       "  </tbody>\n",
       "</table>\n",
       "</div>"
      ],
      "text/plain": [
       "                 Open       High        Low      Close  Adj Close   Volume\n",
       "Date                                                                      \n",
       "2019-01-02  75.250000  75.449997  74.099998  74.400002  67.534744  5818879\n",
       "2019-01-03  74.000000  74.449997  73.150002  73.349998  66.581635  6464132\n",
       "2019-01-04  72.800003  75.250000  72.800003  75.250000  68.306305  6218655\n",
       "2019-01-07  76.800003  76.949997  75.400002  75.800003  68.805557  4371572\n",
       "2019-01-08  76.500000  77.800003  75.949997  77.349998  70.212524  7733797"
      ]
     },
     "execution_count": 11,
     "metadata": {},
     "output_type": "execute_result"
    }
   ],
   "source": [
    "df1.head()"
   ]
  },
  {
   "cell_type": "code",
   "execution_count": 13,
   "metadata": {},
   "outputs": [
    {
     "data": {
      "text/html": [
       "<div>\n",
       "<style scoped>\n",
       "    .dataframe tbody tr th:only-of-type {\n",
       "        vertical-align: middle;\n",
       "    }\n",
       "\n",
       "    .dataframe tbody tr th {\n",
       "        vertical-align: top;\n",
       "    }\n",
       "\n",
       "    .dataframe thead th {\n",
       "        text-align: right;\n",
       "    }\n",
       "</style>\n",
       "<table border=\"1\" class=\"dataframe\">\n",
       "  <thead>\n",
       "    <tr style=\"text-align: right;\">\n",
       "      <th></th>\n",
       "      <th>Open</th>\n",
       "      <th>High</th>\n",
       "      <th>Low</th>\n",
       "      <th>Close</th>\n",
       "      <th>Adj Close</th>\n",
       "      <th>Volume</th>\n",
       "    </tr>\n",
       "    <tr>\n",
       "      <th>Date</th>\n",
       "      <th></th>\n",
       "      <th></th>\n",
       "      <th></th>\n",
       "      <th></th>\n",
       "      <th></th>\n",
       "      <th></th>\n",
       "    </tr>\n",
       "  </thead>\n",
       "  <tbody>\n",
       "    <tr>\n",
       "      <th>2020-12-08</th>\n",
       "      <td>55.299999</td>\n",
       "      <td>56.400002</td>\n",
       "      <td>55.299999</td>\n",
       "      <td>55.950001</td>\n",
       "      <td>55.950001</td>\n",
       "      <td>7438449</td>\n",
       "    </tr>\n",
       "    <tr>\n",
       "      <th>2020-12-09</th>\n",
       "      <td>55.450001</td>\n",
       "      <td>56.450001</td>\n",
       "      <td>55.450001</td>\n",
       "      <td>55.799999</td>\n",
       "      <td>55.799999</td>\n",
       "      <td>8305680</td>\n",
       "    </tr>\n",
       "    <tr>\n",
       "      <th>2020-12-10</th>\n",
       "      <td>55.750000</td>\n",
       "      <td>56.299999</td>\n",
       "      <td>55.450001</td>\n",
       "      <td>55.849998</td>\n",
       "      <td>55.849998</td>\n",
       "      <td>6864142</td>\n",
       "    </tr>\n",
       "    <tr>\n",
       "      <th>2020-12-11</th>\n",
       "      <td>55.950001</td>\n",
       "      <td>56.950001</td>\n",
       "      <td>55.599998</td>\n",
       "      <td>55.700001</td>\n",
       "      <td>55.700001</td>\n",
       "      <td>5105821</td>\n",
       "    </tr>\n",
       "    <tr>\n",
       "      <th>2020-12-14</th>\n",
       "      <td>56.000000</td>\n",
       "      <td>56.000000</td>\n",
       "      <td>55.049999</td>\n",
       "      <td>55.049999</td>\n",
       "      <td>55.049999</td>\n",
       "      <td>4064629</td>\n",
       "    </tr>\n",
       "  </tbody>\n",
       "</table>\n",
       "</div>"
      ],
      "text/plain": [
       "                 Open       High        Low      Close  Adj Close   Volume\n",
       "Date                                                                      \n",
       "2020-12-08  55.299999  56.400002  55.299999  55.950001  55.950001  7438449\n",
       "2020-12-09  55.450001  56.450001  55.450001  55.799999  55.799999  8305680\n",
       "2020-12-10  55.750000  56.299999  55.450001  55.849998  55.849998  6864142\n",
       "2020-12-11  55.950001  56.950001  55.599998  55.700001  55.700001  5105821\n",
       "2020-12-14  56.000000  56.000000  55.049999  55.049999  55.049999  4064629"
      ]
     },
     "execution_count": 13,
     "metadata": {},
     "output_type": "execute_result"
    }
   ],
   "source": [
    "df1.tail()"
   ]
  },
  {
   "cell_type": "code",
   "execution_count": 12,
   "metadata": {},
   "outputs": [
    {
     "name": "stdout",
     "output_type": "stream",
     "text": [
      "-26.008067059095094\n"
     ]
    }
   ],
   "source": [
    "re = 100*(df1[\"Close\"][-1] - df1[\"Close\"][0])/df1[\"Close\"][0]\n",
    "print(re)"
   ]
  },
  {
   "cell_type": "code",
   "execution_count": 14,
   "metadata": {},
   "outputs": [
    {
     "data": {
      "text/plain": [
       "55.04999923706055"
      ]
     },
     "execution_count": 14,
     "metadata": {},
     "output_type": "execute_result"
    }
   ],
   "source": [
    "df1[\"Close\"][-1]"
   ]
  },
  {
   "cell_type": "code",
   "execution_count": 15,
   "metadata": {
    "scrolled": true
   },
   "outputs": [
    {
     "data": {
      "text/plain": [
       "74.4000015258789"
      ]
     },
     "execution_count": 15,
     "metadata": {},
     "output_type": "execute_result"
    }
   ],
   "source": [
    "df1[\"Close\"][0]"
   ]
  },
  {
   "cell_type": "code",
   "execution_count": 16,
   "metadata": {},
   "outputs": [],
   "source": [
    "def get_return(index_list):\n",
    "    today = date.today()\n",
    "    d1 = today.strftime(\"%Y-%m-%d\")\n",
    "    re_list = []\n",
    "    for i in index_list:\n",
    "        df1=yf.download(i,\"2019-01-01\",d1)\n",
    "        re = 100*(df1[\"Close\"][-1] - df1[\"Close\"][0])/df1[\"Close\"][0]\n",
    "        re_list.append(re)\n",
    "    return re_list\n",
    "        "
   ]
  },
  {
   "cell_type": "code",
   "execution_count": 17,
   "metadata": {},
   "outputs": [
    {
     "name": "stdout",
     "output_type": "stream",
     "text": [
      "[*********************100%***********************]  1 of 1 completed\n",
      "[*********************100%***********************]  1 of 1 completed\n",
      "[*********************100%***********************]  1 of 1 completed\n",
      "[*********************100%***********************]  1 of 1 completed\n",
      "[*********************100%***********************]  1 of 1 completed\n",
      "[*********************100%***********************]  1 of 1 completed\n",
      "[*********************100%***********************]  1 of 1 completed\n",
      "[*********************100%***********************]  1 of 1 completed\n",
      "[*********************100%***********************]  1 of 1 completed\n",
      "[*********************100%***********************]  1 of 1 completed\n",
      "[*********************100%***********************]  1 of 1 completed\n",
      "[*********************100%***********************]  1 of 1 completed\n",
      "[*********************100%***********************]  1 of 1 completed\n",
      "[*********************100%***********************]  1 of 1 completed\n",
      "[*********************100%***********************]  1 of 1 completed\n",
      "[*********************100%***********************]  1 of 1 completed\n",
      "[*********************100%***********************]  1 of 1 completed\n",
      "[*********************100%***********************]  1 of 1 completed\n",
      "[*********************100%***********************]  1 of 1 completed\n",
      "[*********************100%***********************]  1 of 1 completed\n",
      "[*********************100%***********************]  1 of 1 completed\n",
      "[*********************100%***********************]  1 of 1 completed\n",
      "[*********************100%***********************]  1 of 1 completed\n",
      "[*********************100%***********************]  1 of 1 completed\n",
      "[*********************100%***********************]  1 of 1 completed\n",
      "[*********************100%***********************]  1 of 1 completed\n",
      "[*********************100%***********************]  1 of 1 completed\n",
      "[*********************100%***********************]  1 of 1 completed\n",
      "[*********************100%***********************]  1 of 1 completed\n",
      "[*********************100%***********************]  1 of 1 completed\n",
      "[*********************100%***********************]  1 of 1 completed\n",
      "[*********************100%***********************]  1 of 1 completed\n",
      "[*********************100%***********************]  1 of 1 completed\n",
      "[*********************100%***********************]  1 of 1 completed\n",
      "[*********************100%***********************]  1 of 1 completed\n",
      "[*********************100%***********************]  1 of 1 completed\n",
      "[*********************100%***********************]  1 of 1 completed\n",
      "[*********************100%***********************]  1 of 1 completed\n",
      "[*********************100%***********************]  1 of 1 completed\n",
      "[*********************100%***********************]  1 of 1 completed\n",
      "[*********************100%***********************]  1 of 1 completed\n",
      "[*********************100%***********************]  1 of 1 completed\n",
      "[*********************100%***********************]  1 of 1 completed\n",
      "[*********************100%***********************]  1 of 1 completed\n",
      "[*********************100%***********************]  1 of 1 completed\n",
      "[*********************100%***********************]  1 of 1 completed\n",
      "[*********************100%***********************]  1 of 1 completed\n",
      "[*********************100%***********************]  1 of 1 completed\n",
      "[*********************100%***********************]  1 of 1 completed\n",
      "[*********************100%***********************]  1 of 1 completed\n"
     ]
    },
    {
     "data": {
      "text/plain": [
       "[-26.008067059095094,\n",
       " -18.796563353442874,\n",
       " -20.713309252656206,\n",
       " -34.67614696287119,\n",
       " -23.551399017048773,\n",
       " -20.8670555511651,\n",
       " -10.418234745276017,\n",
       " -3.21691167447394,\n",
       " 264.89150638308115,\n",
       " -43.76956495443049,\n",
       " 28.08870851184264,\n",
       " 5.061726511260609,\n",
       " -18.84498154248851,\n",
       " 36.0768193169154,\n",
       " 6.4885528137215545,\n",
       " 72.95840951217426,\n",
       " -53.04054162901103,\n",
       " 12.26252232857951,\n",
       " -36.76470549564461,\n",
       " 74.68467918602195,\n",
       " -29.52755949857756,\n",
       " 86.23613458351221,\n",
       " -46.22056608786,\n",
       " -11.508951855786876,\n",
       " -48.43537399960698,\n",
       " -47.9481635796525,\n",
       " -36.48409672212356,\n",
       " -8.133967361979408,\n",
       " -39.78201656119081,\n",
       " -31.73241894013575,\n",
       " -7.280704431366503,\n",
       " -13.66906861469317,\n",
       " 31.056179089492627,\n",
       " 11.150441127540791,\n",
       " -22.612611237946933,\n",
       " 104.02436103095657,\n",
       " 42.97060986373441,\n",
       " -13.07550756155744,\n",
       " 5.030492573958899,\n",
       " -12.745102602055615,\n",
       " 11.955314763145122,\n",
       " -5.069126003665273,\n",
       " 59.446991970677814,\n",
       " 38.49000566303219,\n",
       " 77.98742173572882,\n",
       " 128.24602359076042,\n",
       " -13.356769920931853,\n",
       " 5.679012549176037,\n",
       " -30.369126362326153,\n",
       " -20.783127490244407]"
      ]
     },
     "execution_count": 17,
     "metadata": {},
     "output_type": "execute_result"
    }
   ],
   "source": [
    "get_return(list(df[\"Stock code\"]))"
   ]
  },
  {
   "cell_type": "code",
   "execution_count": 20,
   "metadata": {},
   "outputs": [
    {
     "name": "stdout",
     "output_type": "stream",
     "text": [
      "[*********************100%***********************]  1 of 1 completed\n",
      "[*********************100%***********************]  1 of 1 completed\n",
      "[*********************100%***********************]  1 of 1 completed\n",
      "[*********************100%***********************]  1 of 1 completed\n",
      "[*********************100%***********************]  1 of 1 completed\n",
      "[*********************100%***********************]  1 of 1 completed\n",
      "[*********************100%***********************]  1 of 1 completed\n",
      "[*********************100%***********************]  1 of 1 completed\n",
      "[*********************100%***********************]  1 of 1 completed\n",
      "[*********************100%***********************]  1 of 1 completed\n",
      "[*********************100%***********************]  1 of 1 completed\n",
      "[*********************100%***********************]  1 of 1 completed\n",
      "[*********************100%***********************]  1 of 1 completed\n",
      "[*********************100%***********************]  1 of 1 completed\n",
      "[*********************100%***********************]  1 of 1 completed\n",
      "[*********************100%***********************]  1 of 1 completed\n",
      "[*********************100%***********************]  1 of 1 completed\n",
      "[*********************100%***********************]  1 of 1 completed\n",
      "[*********************100%***********************]  1 of 1 completed\n",
      "[*********************100%***********************]  1 of 1 completed\n",
      "[*********************100%***********************]  1 of 1 completed\n",
      "[*********************100%***********************]  1 of 1 completed\n",
      "[*********************100%***********************]  1 of 1 completed\n",
      "[*********************100%***********************]  1 of 1 completed\n",
      "[*********************100%***********************]  1 of 1 completed\n",
      "[*********************100%***********************]  1 of 1 completed\n",
      "[*********************100%***********************]  1 of 1 completed\n",
      "[*********************100%***********************]  1 of 1 completed\n",
      "[*********************100%***********************]  1 of 1 completed\n",
      "[*********************100%***********************]  1 of 1 completed\n",
      "[*********************100%***********************]  1 of 1 completed\n",
      "[*********************100%***********************]  1 of 1 completed\n",
      "[*********************100%***********************]  1 of 1 completed\n",
      "[*********************100%***********************]  1 of 1 completed\n",
      "[*********************100%***********************]  1 of 1 completed\n",
      "[*********************100%***********************]  1 of 1 completed\n",
      "[*********************100%***********************]  1 of 1 completed\n",
      "[*********************100%***********************]  1 of 1 completed\n",
      "[*********************100%***********************]  1 of 1 completed\n",
      "[*********************100%***********************]  1 of 1 completed\n",
      "[*********************100%***********************]  1 of 1 completed\n",
      "[*********************100%***********************]  1 of 1 completed\n",
      "[*********************100%***********************]  1 of 1 completed\n",
      "[*********************100%***********************]  1 of 1 completed\n",
      "[*********************100%***********************]  1 of 1 completed\n",
      "[*********************100%***********************]  1 of 1 completed\n",
      "[*********************100%***********************]  1 of 1 completed\n",
      "[*********************100%***********************]  1 of 1 completed\n",
      "[*********************100%***********************]  1 of 1 completed\n",
      "[*********************100%***********************]  1 of 1 completed\n"
     ]
    }
   ],
   "source": [
    "index_list = read_stock_xlsx()\n",
    "df = pd.DataFrame({\"Stock code\":read_stock_xlsx(), \"Return\":get_return(index_list)})"
   ]
  },
  {
   "cell_type": "code",
   "execution_count": 23,
   "metadata": {},
   "outputs": [
    {
     "data": {
      "text/plain": [
       "['0017.HK', '2382.HK', '1177.HK', '0700.HK', '2319.HK']"
      ]
     },
     "execution_count": 23,
     "metadata": {},
     "output_type": "execute_result"
    }
   ],
   "source": [
    "[df[\"Stock code\"][i] for i in list(df[\"Return\"].sort_values(ascending=False).iloc[:5].index)]"
   ]
  },
  {
   "cell_type": "code",
   "execution_count": 24,
   "metadata": {},
   "outputs": [
    {
     "data": {
      "text/html": [
       "<div>\n",
       "<style scoped>\n",
       "    .dataframe tbody tr th:only-of-type {\n",
       "        vertical-align: middle;\n",
       "    }\n",
       "\n",
       "    .dataframe tbody tr th {\n",
       "        vertical-align: top;\n",
       "    }\n",
       "\n",
       "    .dataframe thead th {\n",
       "        text-align: right;\n",
       "    }\n",
       "</style>\n",
       "<table border=\"1\" class=\"dataframe\">\n",
       "  <thead>\n",
       "    <tr style=\"text-align: right;\">\n",
       "      <th></th>\n",
       "      <th>Stock code</th>\n",
       "      <th>Return</th>\n",
       "    </tr>\n",
       "  </thead>\n",
       "  <tbody>\n",
       "    <tr>\n",
       "      <th>8</th>\n",
       "      <td>0017.HK</td>\n",
       "      <td>264.891506</td>\n",
       "    </tr>\n",
       "    <tr>\n",
       "      <th>45</th>\n",
       "      <td>2382.HK</td>\n",
       "      <td>128.246024</td>\n",
       "    </tr>\n",
       "    <tr>\n",
       "      <th>35</th>\n",
       "      <td>1177.HK</td>\n",
       "      <td>104.024361</td>\n",
       "    </tr>\n",
       "    <tr>\n",
       "      <th>21</th>\n",
       "      <td>0700.HK</td>\n",
       "      <td>86.236135</td>\n",
       "    </tr>\n",
       "    <tr>\n",
       "      <th>44</th>\n",
       "      <td>2319.HK</td>\n",
       "      <td>77.987422</td>\n",
       "    </tr>\n",
       "  </tbody>\n",
       "</table>\n",
       "</div>"
      ],
      "text/plain": [
       "   Stock code      Return\n",
       "8     0017.HK  264.891506\n",
       "45    2382.HK  128.246024\n",
       "35    1177.HK  104.024361\n",
       "21    0700.HK   86.236135\n",
       "44    2319.HK   77.987422"
      ]
     },
     "execution_count": 24,
     "metadata": {},
     "output_type": "execute_result"
    }
   ],
   "source": [
    "df.loc[list(df[\"Return\"].sort_values(ascending=False).iloc[:5].index)]"
   ]
  },
  {
   "cell_type": "code",
   "execution_count": null,
   "metadata": {},
   "outputs": [],
   "source": []
  }
 ],
 "metadata": {
  "kernelspec": {
   "display_name": "Python 3",
   "language": "python",
   "name": "python3"
  },
  "language_info": {
   "codemirror_mode": {
    "name": "ipython",
    "version": 3
   },
   "file_extension": ".py",
   "mimetype": "text/x-python",
   "name": "python",
   "nbconvert_exporter": "python",
   "pygments_lexer": "ipython3",
   "version": "3.7.6"
  }
 },
 "nbformat": 4,
 "nbformat_minor": 4
}
